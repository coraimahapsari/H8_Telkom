{
 "cells": [
  {
   "cell_type": "markdown",
   "metadata": {},
   "source": [
    "# Assignment 2"
   ]
  },
  {
   "cell_type": "markdown",
   "metadata": {},
   "source": [
    "## Data Preparation"
   ]
  },
  {
   "cell_type": "code",
   "execution_count": 1,
   "metadata": {},
   "outputs": [],
   "source": [
    "import math\n",
    "import statistics\n",
    "import numpy as np\n",
    "import scipy.stats\n",
    "import pandas as pd\n",
    "import matplotlib.pyplot as plt\n",
    "import seaborn as sns\n",
    "import statsmodels.api as sm"
   ]
  },
  {
   "cell_type": "code",
   "execution_count": 2,
   "metadata": {},
   "outputs": [],
   "source": [
    "data_pelatihan = pd.read_excel('./dataset/Feedback_Lat_2020.xlsx')\n",
    "data_elearn = pd.read_excel('./dataset/ELearn_2020.xlsx')\n",
    "data_feedback_elearn= pd.read_excel('./dataset/Feedback_ELearn_2020.xlsx')"
   ]
  },
  {
   "cell_type": "code",
   "execution_count": 3,
   "metadata": {},
   "outputs": [
    {
     "data": {
      "text/html": [
       "<div>\n",
       "<style scoped>\n",
       "    .dataframe tbody tr th:only-of-type {\n",
       "        vertical-align: middle;\n",
       "    }\n",
       "\n",
       "    .dataframe tbody tr th {\n",
       "        vertical-align: top;\n",
       "    }\n",
       "\n",
       "    .dataframe thead th {\n",
       "        text-align: right;\n",
       "    }\n",
       "</style>\n",
       "<table border=\"1\" class=\"dataframe\">\n",
       "  <thead>\n",
       "    <tr style=\"text-align: right;\">\n",
       "      <th></th>\n",
       "      <th>Nama Pelatihan</th>\n",
       "      <th>Objid Pelatihan</th>\n",
       "      <th>Category</th>\n",
       "      <th>Tipe</th>\n",
       "      <th>Lokasi Pelatihan</th>\n",
       "      <th>Provider</th>\n",
       "      <th>Academy Event</th>\n",
       "      <th>Location</th>\n",
       "      <th>Provider Category</th>\n",
       "      <th>Event Type</th>\n",
       "      <th>...</th>\n",
       "      <th>UBPP Akom</th>\n",
       "      <th>UBPP Sarana</th>\n",
       "      <th>UBPP Laborat</th>\n",
       "      <th>UBPP Penyelenggaraan</th>\n",
       "      <th>UBPP Kafetaria</th>\n",
       "      <th>UBPP Materi</th>\n",
       "      <th>Net Promotor Score</th>\n",
       "      <th>Customer Satisfaction</th>\n",
       "      <th>First Response &amp; Average Handling</th>\n",
       "      <th>Customer Effort Score</th>\n",
       "    </tr>\n",
       "  </thead>\n",
       "  <tbody>\n",
       "    <tr>\n",
       "      <th>0</th>\n",
       "      <td>Social Media Ads &amp; Analytic</td>\n",
       "      <td>80114181</td>\n",
       "      <td>LAT</td>\n",
       "      <td>NaN</td>\n",
       "      <td>Bandung</td>\n",
       "      <td>Learning Area 2 Jakarta</td>\n",
       "      <td>CONSUMER</td>\n",
       "      <td>Online (Lokasi Masing-Masing)</td>\n",
       "      <td>Internal</td>\n",
       "      <td>Internal</td>\n",
       "      <td>...</td>\n",
       "      <td>0.0</td>\n",
       "      <td>0.0</td>\n",
       "      <td>0</td>\n",
       "      <td>0.0</td>\n",
       "      <td>0.0</td>\n",
       "      <td>0.0</td>\n",
       "      <td>0.0</td>\n",
       "      <td>0.0</td>\n",
       "      <td>0.0</td>\n",
       "      <td>0.0</td>\n",
       "    </tr>\n",
       "    <tr>\n",
       "      <th>1</th>\n",
       "      <td>CISM</td>\n",
       "      <td>80114269</td>\n",
       "      <td>LAT</td>\n",
       "      <td>Virtual Classroom</td>\n",
       "      <td>Bandung</td>\n",
       "      <td>Learning Area 3 / LO</td>\n",
       "      <td>NITS</td>\n",
       "      <td>Online (Lokasi Masing-Masing)</td>\n",
       "      <td>NaN</td>\n",
       "      <td>Public</td>\n",
       "      <td>...</td>\n",
       "      <td>0.0</td>\n",
       "      <td>0.0</td>\n",
       "      <td>0</td>\n",
       "      <td>0.0</td>\n",
       "      <td>0.0</td>\n",
       "      <td>0.0</td>\n",
       "      <td>0.0</td>\n",
       "      <td>0.0</td>\n",
       "      <td>0.0</td>\n",
       "      <td>0.0</td>\n",
       "    </tr>\n",
       "    <tr>\n",
       "      <th>2</th>\n",
       "      <td>Programmer Development Course Amoeba</td>\n",
       "      <td>80114271</td>\n",
       "      <td>LAT</td>\n",
       "      <td>E-learning</td>\n",
       "      <td>Bandung</td>\n",
       "      <td>Learning Area 7 Makassar</td>\n",
       "      <td>DSP</td>\n",
       "      <td>Online (Lokasi Masing-Masing)</td>\n",
       "      <td>Internal</td>\n",
       "      <td>Internal</td>\n",
       "      <td>...</td>\n",
       "      <td>0.0</td>\n",
       "      <td>0.0</td>\n",
       "      <td>0</td>\n",
       "      <td>0.0</td>\n",
       "      <td>0.0</td>\n",
       "      <td>0.0</td>\n",
       "      <td>0.0</td>\n",
       "      <td>0.0</td>\n",
       "      <td>0.0</td>\n",
       "      <td>0.0</td>\n",
       "    </tr>\n",
       "    <tr>\n",
       "      <th>3</th>\n",
       "      <td>Business Analytics Amoeba</td>\n",
       "      <td>80114280</td>\n",
       "      <td>LAT</td>\n",
       "      <td>Video Learning</td>\n",
       "      <td>Bandung</td>\n",
       "      <td>Learning Area 7 Makassar</td>\n",
       "      <td>DSP</td>\n",
       "      <td>Online (Lokasi Masing-Masing)</td>\n",
       "      <td>Internal</td>\n",
       "      <td>Internal</td>\n",
       "      <td>...</td>\n",
       "      <td>0.0</td>\n",
       "      <td>0.0</td>\n",
       "      <td>0</td>\n",
       "      <td>0.0</td>\n",
       "      <td>0.0</td>\n",
       "      <td>0.0</td>\n",
       "      <td>0.0</td>\n",
       "      <td>0.0</td>\n",
       "      <td>0.0</td>\n",
       "      <td>0.0</td>\n",
       "    </tr>\n",
       "    <tr>\n",
       "      <th>4</th>\n",
       "      <td>Online UX Design Course Amoeba</td>\n",
       "      <td>80114281</td>\n",
       "      <td>LAT</td>\n",
       "      <td>E-learning</td>\n",
       "      <td>Bandung</td>\n",
       "      <td>Learning Area 7 Makassar</td>\n",
       "      <td>DSP</td>\n",
       "      <td>Online (Lokasi Masing-Masing)</td>\n",
       "      <td>Internal</td>\n",
       "      <td>Internal</td>\n",
       "      <td>...</td>\n",
       "      <td>0.0</td>\n",
       "      <td>0.0</td>\n",
       "      <td>0</td>\n",
       "      <td>0.0</td>\n",
       "      <td>0.0</td>\n",
       "      <td>0.0</td>\n",
       "      <td>0.0</td>\n",
       "      <td>0.0</td>\n",
       "      <td>0.0</td>\n",
       "      <td>0.0</td>\n",
       "    </tr>\n",
       "  </tbody>\n",
       "</table>\n",
       "<p>5 rows × 29 columns</p>\n",
       "</div>"
      ],
      "text/plain": [
       "                         Nama Pelatihan  Objid Pelatihan Category  \\\n",
       "0           Social Media Ads & Analytic         80114181      LAT   \n",
       "1                                  CISM         80114269      LAT   \n",
       "2  Programmer Development Course Amoeba         80114271      LAT   \n",
       "3             Business Analytics Amoeba         80114280      LAT   \n",
       "4        Online UX Design Course Amoeba         80114281      LAT   \n",
       "\n",
       "                Tipe Lokasi Pelatihan                  Provider Academy Event  \\\n",
       "0                NaN          Bandung   Learning Area 2 Jakarta      CONSUMER   \n",
       "1  Virtual Classroom          Bandung      Learning Area 3 / LO          NITS   \n",
       "2         E-learning          Bandung  Learning Area 7 Makassar           DSP   \n",
       "3     Video Learning          Bandung  Learning Area 7 Makassar           DSP   \n",
       "4         E-learning          Bandung  Learning Area 7 Makassar           DSP   \n",
       "\n",
       "                        Location Provider Category Event Type  ... UBPP Akom  \\\n",
       "0  Online (Lokasi Masing-Masing)          Internal   Internal  ...       0.0   \n",
       "1  Online (Lokasi Masing-Masing)               NaN     Public  ...       0.0   \n",
       "2  Online (Lokasi Masing-Masing)          Internal   Internal  ...       0.0   \n",
       "3  Online (Lokasi Masing-Masing)          Internal   Internal  ...       0.0   \n",
       "4  Online (Lokasi Masing-Masing)          Internal   Internal  ...       0.0   \n",
       "\n",
       "  UBPP Sarana UBPP Laborat  UBPP Penyelenggaraan  UBPP Kafetaria  UBPP Materi  \\\n",
       "0         0.0            0                   0.0             0.0          0.0   \n",
       "1         0.0            0                   0.0             0.0          0.0   \n",
       "2         0.0            0                   0.0             0.0          0.0   \n",
       "3         0.0            0                   0.0             0.0          0.0   \n",
       "4         0.0            0                   0.0             0.0          0.0   \n",
       "\n",
       "   Net Promotor Score  Customer Satisfaction  \\\n",
       "0                 0.0                    0.0   \n",
       "1                 0.0                    0.0   \n",
       "2                 0.0                    0.0   \n",
       "3                 0.0                    0.0   \n",
       "4                 0.0                    0.0   \n",
       "\n",
       "   First Response & Average Handling  Customer Effort Score  \n",
       "0                                0.0                    0.0  \n",
       "1                                0.0                    0.0  \n",
       "2                                0.0                    0.0  \n",
       "3                                0.0                    0.0  \n",
       "4                                0.0                    0.0  \n",
       "\n",
       "[5 rows x 29 columns]"
      ]
     },
     "execution_count": 3,
     "metadata": {},
     "output_type": "execute_result"
    }
   ],
   "source": [
    "data_pelatihan.head()"
   ]
  },
  {
   "cell_type": "code",
   "execution_count": 4,
   "metadata": {},
   "outputs": [
    {
     "data": {
      "text/html": [
       "<div>\n",
       "<style scoped>\n",
       "    .dataframe tbody tr th:only-of-type {\n",
       "        vertical-align: middle;\n",
       "    }\n",
       "\n",
       "    .dataframe tbody tr th {\n",
       "        vertical-align: top;\n",
       "    }\n",
       "\n",
       "    .dataframe thead th {\n",
       "        text-align: right;\n",
       "    }\n",
       "</style>\n",
       "<table border=\"1\" class=\"dataframe\">\n",
       "  <thead>\n",
       "    <tr style=\"text-align: right;\">\n",
       "      <th></th>\n",
       "      <th>Objid Pelatihan</th>\n",
       "      <th>Category</th>\n",
       "      <th>Tipe</th>\n",
       "      <th>Lokasi Pelatihan</th>\n",
       "      <th>Provider</th>\n",
       "      <th>Academy Event</th>\n",
       "      <th>Location</th>\n",
       "      <th>Provider Category</th>\n",
       "      <th>Event Type</th>\n",
       "      <th>Status</th>\n",
       "      <th>...</th>\n",
       "      <th>UBPP Akom</th>\n",
       "      <th>UBPP Sarana</th>\n",
       "      <th>UBPP Laborat</th>\n",
       "      <th>UBPP Penyelenggaraan</th>\n",
       "      <th>UBPP Kafetaria</th>\n",
       "      <th>UBPP Materi</th>\n",
       "      <th>Net Promotor Score</th>\n",
       "      <th>Customer Satisfaction</th>\n",
       "      <th>First Response &amp; Average Handling</th>\n",
       "      <th>Customer Effort Score</th>\n",
       "    </tr>\n",
       "    <tr>\n",
       "      <th>Nama Pelatihan</th>\n",
       "      <th></th>\n",
       "      <th></th>\n",
       "      <th></th>\n",
       "      <th></th>\n",
       "      <th></th>\n",
       "      <th></th>\n",
       "      <th></th>\n",
       "      <th></th>\n",
       "      <th></th>\n",
       "      <th></th>\n",
       "      <th></th>\n",
       "      <th></th>\n",
       "      <th></th>\n",
       "      <th></th>\n",
       "      <th></th>\n",
       "      <th></th>\n",
       "      <th></th>\n",
       "      <th></th>\n",
       "      <th></th>\n",
       "      <th></th>\n",
       "      <th></th>\n",
       "    </tr>\n",
       "  </thead>\n",
       "  <tbody>\n",
       "    <tr>\n",
       "      <th>Social Media Ads &amp; Analytic</th>\n",
       "      <td>80114181</td>\n",
       "      <td>LAT</td>\n",
       "      <td>NaN</td>\n",
       "      <td>Bandung</td>\n",
       "      <td>Learning Area 2 Jakarta</td>\n",
       "      <td>CONSUMER</td>\n",
       "      <td>Online (Lokasi Masing-Masing)</td>\n",
       "      <td>Internal</td>\n",
       "      <td>Internal</td>\n",
       "      <td>On Going</td>\n",
       "      <td>...</td>\n",
       "      <td>0.0</td>\n",
       "      <td>0.0</td>\n",
       "      <td>0</td>\n",
       "      <td>0.0</td>\n",
       "      <td>0.0</td>\n",
       "      <td>0.0</td>\n",
       "      <td>0.0</td>\n",
       "      <td>0.0</td>\n",
       "      <td>0.0</td>\n",
       "      <td>0.0</td>\n",
       "    </tr>\n",
       "    <tr>\n",
       "      <th>CISM</th>\n",
       "      <td>80114269</td>\n",
       "      <td>LAT</td>\n",
       "      <td>Virtual Classroom</td>\n",
       "      <td>Bandung</td>\n",
       "      <td>Learning Area 3 / LO</td>\n",
       "      <td>NITS</td>\n",
       "      <td>Online (Lokasi Masing-Masing)</td>\n",
       "      <td>NaN</td>\n",
       "      <td>Public</td>\n",
       "      <td>On Going</td>\n",
       "      <td>...</td>\n",
       "      <td>0.0</td>\n",
       "      <td>0.0</td>\n",
       "      <td>0</td>\n",
       "      <td>0.0</td>\n",
       "      <td>0.0</td>\n",
       "      <td>0.0</td>\n",
       "      <td>0.0</td>\n",
       "      <td>0.0</td>\n",
       "      <td>0.0</td>\n",
       "      <td>0.0</td>\n",
       "    </tr>\n",
       "    <tr>\n",
       "      <th>Programmer Development Course Amoeba</th>\n",
       "      <td>80114271</td>\n",
       "      <td>LAT</td>\n",
       "      <td>E-learning</td>\n",
       "      <td>Bandung</td>\n",
       "      <td>Learning Area 7 Makassar</td>\n",
       "      <td>DSP</td>\n",
       "      <td>Online (Lokasi Masing-Masing)</td>\n",
       "      <td>Internal</td>\n",
       "      <td>Internal</td>\n",
       "      <td>WO</td>\n",
       "      <td>...</td>\n",
       "      <td>0.0</td>\n",
       "      <td>0.0</td>\n",
       "      <td>0</td>\n",
       "      <td>0.0</td>\n",
       "      <td>0.0</td>\n",
       "      <td>0.0</td>\n",
       "      <td>0.0</td>\n",
       "      <td>0.0</td>\n",
       "      <td>0.0</td>\n",
       "      <td>0.0</td>\n",
       "    </tr>\n",
       "    <tr>\n",
       "      <th>Business Analytics Amoeba</th>\n",
       "      <td>80114280</td>\n",
       "      <td>LAT</td>\n",
       "      <td>Video Learning</td>\n",
       "      <td>Bandung</td>\n",
       "      <td>Learning Area 7 Makassar</td>\n",
       "      <td>DSP</td>\n",
       "      <td>Online (Lokasi Masing-Masing)</td>\n",
       "      <td>Internal</td>\n",
       "      <td>Internal</td>\n",
       "      <td>WO</td>\n",
       "      <td>...</td>\n",
       "      <td>0.0</td>\n",
       "      <td>0.0</td>\n",
       "      <td>0</td>\n",
       "      <td>0.0</td>\n",
       "      <td>0.0</td>\n",
       "      <td>0.0</td>\n",
       "      <td>0.0</td>\n",
       "      <td>0.0</td>\n",
       "      <td>0.0</td>\n",
       "      <td>0.0</td>\n",
       "    </tr>\n",
       "    <tr>\n",
       "      <th>Online UX Design Course Amoeba</th>\n",
       "      <td>80114281</td>\n",
       "      <td>LAT</td>\n",
       "      <td>E-learning</td>\n",
       "      <td>Bandung</td>\n",
       "      <td>Learning Area 7 Makassar</td>\n",
       "      <td>DSP</td>\n",
       "      <td>Online (Lokasi Masing-Masing)</td>\n",
       "      <td>Internal</td>\n",
       "      <td>Internal</td>\n",
       "      <td>WO</td>\n",
       "      <td>...</td>\n",
       "      <td>0.0</td>\n",
       "      <td>0.0</td>\n",
       "      <td>0</td>\n",
       "      <td>0.0</td>\n",
       "      <td>0.0</td>\n",
       "      <td>0.0</td>\n",
       "      <td>0.0</td>\n",
       "      <td>0.0</td>\n",
       "      <td>0.0</td>\n",
       "      <td>0.0</td>\n",
       "    </tr>\n",
       "  </tbody>\n",
       "</table>\n",
       "<p>5 rows × 28 columns</p>\n",
       "</div>"
      ],
      "text/plain": [
       "                                      Objid Pelatihan Category  \\\n",
       "Nama Pelatihan                                                   \n",
       "Social Media Ads & Analytic                  80114181      LAT   \n",
       "CISM                                         80114269      LAT   \n",
       "Programmer Development Course Amoeba         80114271      LAT   \n",
       "Business Analytics Amoeba                    80114280      LAT   \n",
       "Online UX Design Course Amoeba               80114281      LAT   \n",
       "\n",
       "                                                   Tipe Lokasi Pelatihan  \\\n",
       "Nama Pelatihan                                                             \n",
       "Social Media Ads & Analytic                         NaN          Bandung   \n",
       "CISM                                  Virtual Classroom          Bandung   \n",
       "Programmer Development Course Amoeba         E-learning          Bandung   \n",
       "Business Analytics Amoeba                Video Learning          Bandung   \n",
       "Online UX Design Course Amoeba               E-learning          Bandung   \n",
       "\n",
       "                                                      Provider Academy Event  \\\n",
       "Nama Pelatihan                                                                 \n",
       "Social Media Ads & Analytic            Learning Area 2 Jakarta      CONSUMER   \n",
       "CISM                                      Learning Area 3 / LO          NITS   \n",
       "Programmer Development Course Amoeba  Learning Area 7 Makassar           DSP   \n",
       "Business Analytics Amoeba             Learning Area 7 Makassar           DSP   \n",
       "Online UX Design Course Amoeba        Learning Area 7 Makassar           DSP   \n",
       "\n",
       "                                                           Location  \\\n",
       "Nama Pelatihan                                                        \n",
       "Social Media Ads & Analytic           Online (Lokasi Masing-Masing)   \n",
       "CISM                                  Online (Lokasi Masing-Masing)   \n",
       "Programmer Development Course Amoeba  Online (Lokasi Masing-Masing)   \n",
       "Business Analytics Amoeba             Online (Lokasi Masing-Masing)   \n",
       "Online UX Design Course Amoeba        Online (Lokasi Masing-Masing)   \n",
       "\n",
       "                                     Provider Category Event Type    Status  \\\n",
       "Nama Pelatihan                                                                \n",
       "Social Media Ads & Analytic                   Internal   Internal  On Going   \n",
       "CISM                                               NaN     Public  On Going   \n",
       "Programmer Development Course Amoeba          Internal   Internal        WO   \n",
       "Business Analytics Amoeba                     Internal   Internal        WO   \n",
       "Online UX Design Course Amoeba                Internal   Internal        WO   \n",
       "\n",
       "                                      ... UBPP Akom UBPP Sarana  UBPP Laborat  \\\n",
       "Nama Pelatihan                        ...                                       \n",
       "Social Media Ads & Analytic           ...       0.0         0.0             0   \n",
       "CISM                                  ...       0.0         0.0             0   \n",
       "Programmer Development Course Amoeba  ...       0.0         0.0             0   \n",
       "Business Analytics Amoeba             ...       0.0         0.0             0   \n",
       "Online UX Design Course Amoeba        ...       0.0         0.0             0   \n",
       "\n",
       "                                      UBPP Penyelenggaraan  UBPP Kafetaria  \\\n",
       "Nama Pelatihan                                                               \n",
       "Social Media Ads & Analytic                            0.0             0.0   \n",
       "CISM                                                   0.0             0.0   \n",
       "Programmer Development Course Amoeba                   0.0             0.0   \n",
       "Business Analytics Amoeba                              0.0             0.0   \n",
       "Online UX Design Course Amoeba                         0.0             0.0   \n",
       "\n",
       "                                      UBPP Materi  Net Promotor Score  \\\n",
       "Nama Pelatihan                                                          \n",
       "Social Media Ads & Analytic                   0.0                 0.0   \n",
       "CISM                                          0.0                 0.0   \n",
       "Programmer Development Course Amoeba          0.0                 0.0   \n",
       "Business Analytics Amoeba                     0.0                 0.0   \n",
       "Online UX Design Course Amoeba                0.0                 0.0   \n",
       "\n",
       "                                      Customer Satisfaction  \\\n",
       "Nama Pelatihan                                                \n",
       "Social Media Ads & Analytic                             0.0   \n",
       "CISM                                                    0.0   \n",
       "Programmer Development Course Amoeba                    0.0   \n",
       "Business Analytics Amoeba                               0.0   \n",
       "Online UX Design Course Amoeba                          0.0   \n",
       "\n",
       "                                      First Response & Average Handling  \\\n",
       "Nama Pelatihan                                                            \n",
       "Social Media Ads & Analytic                                         0.0   \n",
       "CISM                                                                0.0   \n",
       "Programmer Development Course Amoeba                                0.0   \n",
       "Business Analytics Amoeba                                           0.0   \n",
       "Online UX Design Course Amoeba                                      0.0   \n",
       "\n",
       "                                      Customer Effort Score  \n",
       "Nama Pelatihan                                               \n",
       "Social Media Ads & Analytic                             0.0  \n",
       "CISM                                                    0.0  \n",
       "Programmer Development Course Amoeba                    0.0  \n",
       "Business Analytics Amoeba                               0.0  \n",
       "Online UX Design Course Amoeba                          0.0  \n",
       "\n",
       "[5 rows x 28 columns]"
      ]
     },
     "execution_count": 4,
     "metadata": {},
     "output_type": "execute_result"
    }
   ],
   "source": [
    "data_pelatihan.set_index('Nama Pelatihan', inplace=True)\n",
    "data_pelatihan.head()"
   ]
  },
  {
   "cell_type": "code",
   "execution_count": 5,
   "metadata": {},
   "outputs": [
    {
     "data": {
      "text/plain": [
       "Nama Pelatihan\n",
       "Social Media Ads & Analytic             28\n",
       "CISM                                     4\n",
       "Programmer Development Course Amoeba     1\n",
       "Business Analytics Amoeba                1\n",
       "Online UX Design Course Amoeba           1\n",
       "Name: JML Peserta, dtype: int64"
      ]
     },
     "execution_count": 5,
     "metadata": {},
     "output_type": "execute_result"
    }
   ],
   "source": [
    "dt_peserta = data_pelatihan['JML Peserta']\n",
    "dt_peserta.head()"
   ]
  },
  {
   "cell_type": "code",
   "execution_count": 6,
   "metadata": {},
   "outputs": [
    {
     "data": {
      "text/plain": [
       "Nama Pelatihan\n",
       "Social Media Ads & Analytic             0.0\n",
       "CISM                                    0.0\n",
       "Programmer Development Course Amoeba    0.0\n",
       "Business Analytics Amoeba               0.0\n",
       "Online UX Design Course Amoeba          0.0\n",
       "Name: Net Promotor Score, dtype: float64"
      ]
     },
     "execution_count": 6,
     "metadata": {},
     "output_type": "execute_result"
    }
   ],
   "source": [
    "dt_NPS = data_pelatihan['Net Promotor Score']\n",
    "dt_NPS.head()"
   ]
  },
  {
   "cell_type": "markdown",
   "metadata": {},
   "source": [
    "## Measure of Central Tendency: Mean"
   ]
  },
  {
   "cell_type": "code",
   "execution_count": 7,
   "metadata": {},
   "outputs": [
    {
     "data": {
      "text/plain": [
       "32.16318785578748"
      ]
     },
     "execution_count": 7,
     "metadata": {},
     "output_type": "execute_result"
    }
   ],
   "source": [
    "mean_ = np.mean(dt_peserta)\n",
    "mean_"
   ]
  },
  {
   "cell_type": "code",
   "execution_count": 8,
   "metadata": {},
   "outputs": [
    {
     "data": {
      "text/plain": [
       "39.36956356736245"
      ]
     },
     "execution_count": 8,
     "metadata": {},
     "output_type": "execute_result"
    }
   ],
   "source": [
    "meanNPS = dt_NPS.mean()\n",
    "dt_NPS.mean()"
   ]
  },
  {
   "cell_type": "code",
   "execution_count": 9,
   "metadata": {},
   "outputs": [
    {
     "data": {
      "text/plain": [
       "0.0"
      ]
     },
     "execution_count": 9,
     "metadata": {},
     "output_type": "execute_result"
    }
   ],
   "source": [
    "# Harmonic Mean\n",
    "scipy.stats.hmean(dt_peserta)"
   ]
  },
  {
   "cell_type": "markdown",
   "metadata": {},
   "source": [
    "## Measure of Central Tendency: Median"
   ]
  },
  {
   "cell_type": "code",
   "execution_count": 10,
   "metadata": {},
   "outputs": [
    {
     "data": {
      "text/plain": [
       "9.0"
      ]
     },
     "execution_count": 10,
     "metadata": {},
     "output_type": "execute_result"
    }
   ],
   "source": [
    "median_ = np.median(dt_peserta)\n",
    "median_"
   ]
  },
  {
   "cell_type": "code",
   "execution_count": 11,
   "metadata": {},
   "outputs": [
    {
     "data": {
      "text/plain": [
       "42.86"
      ]
     },
     "execution_count": 11,
     "metadata": {},
     "output_type": "execute_result"
    }
   ],
   "source": [
    "dt_NPS.median()"
   ]
  },
  {
   "cell_type": "markdown",
   "metadata": {},
   "source": [
    "## Measure of Central Tendency: Modus"
   ]
  },
  {
   "cell_type": "code",
   "execution_count": 12,
   "metadata": {},
   "outputs": [
    {
     "data": {
      "text/plain": [
       "ModeResult(mode=array([0], dtype=int64), count=array([278]))"
      ]
     },
     "execution_count": 12,
     "metadata": {},
     "output_type": "execute_result"
    }
   ],
   "source": [
    "scipy.stats.mode(dt_peserta)"
   ]
  },
  {
   "cell_type": "code",
   "execution_count": 13,
   "metadata": {},
   "outputs": [
    {
     "data": {
      "text/plain": [
       "ModeResult(mode=array([0.]), count=array([693]))"
      ]
     },
     "execution_count": 13,
     "metadata": {},
     "output_type": "execute_result"
    }
   ],
   "source": [
    "scipy.stats.mode(dt_NPS)"
   ]
  },
  {
   "cell_type": "markdown",
   "metadata": {},
   "source": [
    "## Measure of Spread : Range "
   ]
  },
  {
   "cell_type": "code",
   "execution_count": 14,
   "metadata": {},
   "outputs": [
    {
     "data": {
      "text/plain": [
       "1576"
      ]
     },
     "execution_count": 14,
     "metadata": {},
     "output_type": "execute_result"
    }
   ],
   "source": [
    "np.ptp(dt_peserta)"
   ]
  },
  {
   "cell_type": "code",
   "execution_count": 15,
   "metadata": {},
   "outputs": [
    {
     "data": {
      "text/plain": [
       "200.0"
      ]
     },
     "execution_count": 15,
     "metadata": {},
     "output_type": "execute_result"
    }
   ],
   "source": [
    "np.ptp(dt_NPS)"
   ]
  },
  {
   "cell_type": "markdown",
   "metadata": {},
   "source": [
    "## Measure of Spread : Variance "
   ]
  },
  {
   "cell_type": "code",
   "execution_count": 16,
   "metadata": {},
   "outputs": [
    {
     "data": {
      "text/plain": [
       "8844.329049071512"
      ]
     },
     "execution_count": 16,
     "metadata": {},
     "output_type": "execute_result"
    }
   ],
   "source": [
    "np.var(dt_peserta, ddof=1)"
   ]
  },
  {
   "cell_type": "code",
   "execution_count": 17,
   "metadata": {},
   "outputs": [
    {
     "data": {
      "text/plain": [
       "1657.2540787334851"
      ]
     },
     "execution_count": 17,
     "metadata": {},
     "output_type": "execute_result"
    }
   ],
   "source": [
    "dt_NPS.var(ddof=1)"
   ]
  },
  {
   "cell_type": "markdown",
   "metadata": {},
   "source": [
    "## Measure of Spread : Standard Deviation "
   ]
  },
  {
   "cell_type": "code",
   "execution_count": 18,
   "metadata": {},
   "outputs": [
    {
     "data": {
      "text/plain": [
       "94.0442930170221"
      ]
     },
     "execution_count": 18,
     "metadata": {},
     "output_type": "execute_result"
    }
   ],
   "source": [
    "sd_peserta = np.std(dt_peserta, ddof=1)\n",
    "np.std(dt_peserta, ddof=1)"
   ]
  },
  {
   "cell_type": "code",
   "execution_count": 19,
   "metadata": {},
   "outputs": [
    {
     "data": {
      "text/plain": [
       "40.70938563443921"
      ]
     },
     "execution_count": 19,
     "metadata": {},
     "output_type": "execute_result"
    }
   ],
   "source": [
    "sdNPS = dt_NPS.std(ddof=1)\n",
    "dt_NPS.std(ddof=1)"
   ]
  },
  {
   "cell_type": "code",
   "execution_count": 20,
   "metadata": {},
   "outputs": [
    {
     "data": {
      "text/plain": [
       "count    1581.000000\n",
       "mean       32.163188\n",
       "std        94.044293\n",
       "min         0.000000\n",
       "25%         1.000000\n",
       "50%         9.000000\n",
       "75%        29.000000\n",
       "max      1576.000000\n",
       "Name: JML Peserta, dtype: float64"
      ]
     },
     "execution_count": 20,
     "metadata": {},
     "output_type": "execute_result"
    }
   ],
   "source": [
    "resultpeserta = dt_peserta.describe()\n",
    "resultpeserta"
   ]
  },
  {
   "cell_type": "code",
   "execution_count": 21,
   "metadata": {},
   "outputs": [
    {
     "data": {
      "text/plain": [
       "count    1581.000000\n",
       "mean       39.369564\n",
       "std        40.709386\n",
       "min      -100.000000\n",
       "25%         0.000000\n",
       "50%        42.860000\n",
       "75%        75.000000\n",
       "max       100.000000\n",
       "Name: Net Promotor Score, dtype: float64"
      ]
     },
     "execution_count": 21,
     "metadata": {},
     "output_type": "execute_result"
    }
   ],
   "source": [
    "resultNPS = dt_NPS.describe()\n",
    "resultNPS"
   ]
  },
  {
   "cell_type": "markdown",
   "metadata": {},
   "source": [
    "## Probability Distribution"
   ]
  },
  {
   "cell_type": "code",
   "execution_count": 22,
   "metadata": {},
   "outputs": [],
   "source": [
    "sns.set(rc={'figure.figsize':(5, 5)})\n",
    "\n",
    "%matplotlib inline"
   ]
  },
  {
   "cell_type": "code",
   "execution_count": 23,
   "metadata": {},
   "outputs": [],
   "source": [
    "from scipy.stats import norm"
   ]
  },
  {
   "cell_type": "code",
   "execution_count": 24,
   "metadata": {},
   "outputs": [
    {
     "data": {
      "text/plain": [
       "[Text(0, 0.5, 'Frequency'), Text(0.5, 0, 'Normal Distribution')]"
      ]
     },
     "execution_count": 24,
     "metadata": {},
     "output_type": "execute_result"
    },
    {
     "data": {
      "image/png": "[encoded data removed]",
      "text/plain": [
       "<Figure size 432x288 with 1 Axes>"
      ]
     },
     "metadata": {
      "needs_background": "light"
     },
     "output_type": "display_data"
    }
   ],
   "source": [
    "ax = sns.distplot(dt_peserta,\n",
    "                 bins=100,\n",
    "                 kde=True,\n",
    "                 color='skyblue',\n",
    "                 hist_kws={'linewidth':15})\n",
    "\n",
    "ax.set(xlabel='Normal Distribution',\n",
    "      ylabel='Frequency')"
   ]
  },
  {
   "cell_type": "code",
   "execution_count": 25,
   "metadata": {},
   "outputs": [
    {
     "data": {
      "text/plain": [
       "[Text(0, 0.5, 'Frequency'), Text(0.5, 0, 'Normal Distribution')]"
      ]
     },
     "execution_count": 25,
     "metadata": {},
     "output_type": "execute_result"
    },
    {
     "data": {
      "image/png": "[encoded data removed]",
      "text/plain": [
       "<Figure size 432x288 with 1 Axes>"
      ]
     },
     "metadata": {
      "needs_background": "light"
     },
     "output_type": "display_data"
    }
   ],
   "source": [
    "ax = sns.distplot(dt_NPS,\n",
    "                 bins=100,\n",
    "                 kde=True,\n",
    "                 color='skyblue',\n",
    "                 hist_kws={'linewidth':15})\n",
    "\n",
    "ax.set(xlabel='Normal Distribution',\n",
    "      ylabel='Frequency')"
   ]
  },
  {
   "cell_type": "markdown",
   "metadata": {},
   "source": [
    "## Confidence Intervals"
   ]
  },
  {
   "cell_type": "code",
   "execution_count": 26,
   "metadata": {},
   "outputs": [
    {
     "data": {
      "text/plain": [
       "1581"
      ]
     },
     "execution_count": 26,
     "metadata": {},
     "output_type": "execute_result"
    }
   ],
   "source": [
    "np.size(dt_peserta) "
   ]
  },
  {
   "cell_type": "code",
   "execution_count": 27,
   "metadata": {},
   "outputs": [
    {
     "data": {
      "text/plain": [
       "1581"
      ]
     },
     "execution_count": 27,
     "metadata": {},
     "output_type": "execute_result"
    }
   ],
   "source": [
    "np.size(dt_NPS)"
   ]
  },
  {
   "cell_type": "code",
   "execution_count": 28,
   "metadata": {},
   "outputs": [],
   "source": [
    "# Data Peserta\n",
    "mean = 32.163\n",
    "sd = 94.044\n",
    "n = 1581\n",
    "z = 1.96"
   ]
  },
  {
   "cell_type": "code",
   "execution_count": 29,
   "metadata": {},
   "outputs": [],
   "source": [
    "se = sd_peserta / np.sqrt(n)"
   ]
  },
  {
   "cell_type": "code",
   "execution_count": 30,
   "metadata": {},
   "outputs": [
    {
     "data": {
      "text/plain": [
       "(27.527222509873994, 36.798777490126)"
      ]
     },
     "execution_count": 30,
     "metadata": {},
     "output_type": "execute_result"
    }
   ],
   "source": [
    "low = mean - z * se\n",
    "hi = mean + z * se\n",
    "\n",
    "(low, hi)"
   ]
  },
  {
   "cell_type": "markdown",
   "metadata": {},
   "source": [
    "Hal ini berarti nilai CI Jumlah peserta berada di antara 27,5 hingga 36,7"
   ]
  },
  {
   "cell_type": "code",
   "execution_count": 31,
   "metadata": {},
   "outputs": [],
   "source": [
    "# Data NPS\n",
    "mean = 39.369\n",
    "sd = 40.709\n",
    "n = 1581\n",
    "z = 1.96"
   ]
  },
  {
   "cell_type": "code",
   "execution_count": 32,
   "metadata": {},
   "outputs": [],
   "source": [
    "se = sd_peserta / np.sqrt(n)"
   ]
  },
  {
   "cell_type": "code",
   "execution_count": 33,
   "metadata": {},
   "outputs": [
    {
     "data": {
      "text/plain": [
       "(34.733222509874, 44.004777490126)"
      ]
     },
     "execution_count": 33,
     "metadata": {},
     "output_type": "execute_result"
    }
   ],
   "source": [
    "low = mean - z * se\n",
    "hi = mean + z * se\n",
    "\n",
    "(low, hi)"
   ]
  },
  {
   "cell_type": "markdown",
   "metadata": {},
   "source": [
    "Hal ini berarti nilai CI NPS berada di antara 34,7 hingga 44,0"
   ]
  },
  {
   "cell_type": "markdown",
   "metadata": {},
   "source": [
    "## Hypotesis Testing"
   ]
  },
  {
   "cell_type": "markdown",
   "metadata": {},
   "source": [
    "Kita akan menguji hipotesis apabila ada perbedaan mean antara academy DSP dan NITS\n",
    "Mean1 = Mean DSP\n",
    "Mean2 = Mean NITS\n",
    "\n",
    "H0 : Mean 1 == Mean 2\n",
    "\n",
    "H1 : Mean 1 =/= Mean 2"
   ]
  },
  {
   "cell_type": "code",
   "execution_count": 34,
   "metadata": {},
   "outputs": [
    {
     "data": {
      "text/html": [
       "<div>\n",
       "<style scoped>\n",
       "    .dataframe tbody tr th:only-of-type {\n",
       "        vertical-align: middle;\n",
       "    }\n",
       "\n",
       "    .dataframe tbody tr th {\n",
       "        vertical-align: top;\n",
       "    }\n",
       "\n",
       "    .dataframe thead th {\n",
       "        text-align: right;\n",
       "    }\n",
       "</style>\n",
       "<table border=\"1\" class=\"dataframe\">\n",
       "  <thead>\n",
       "    <tr style=\"text-align: right;\">\n",
       "      <th></th>\n",
       "      <th>Academy Event</th>\n",
       "      <th>Net Promotor Score</th>\n",
       "    </tr>\n",
       "    <tr>\n",
       "      <th>Nama Pelatihan</th>\n",
       "      <th></th>\n",
       "      <th></th>\n",
       "    </tr>\n",
       "  </thead>\n",
       "  <tbody>\n",
       "    <tr>\n",
       "      <th>Social Media Ads &amp; Analytic</th>\n",
       "      <td>CONSUMER</td>\n",
       "      <td>0.0</td>\n",
       "    </tr>\n",
       "    <tr>\n",
       "      <th>CISM</th>\n",
       "      <td>NITS</td>\n",
       "      <td>0.0</td>\n",
       "    </tr>\n",
       "    <tr>\n",
       "      <th>Programmer Development Course Amoeba</th>\n",
       "      <td>DSP</td>\n",
       "      <td>0.0</td>\n",
       "    </tr>\n",
       "    <tr>\n",
       "      <th>Business Analytics Amoeba</th>\n",
       "      <td>DSP</td>\n",
       "      <td>0.0</td>\n",
       "    </tr>\n",
       "    <tr>\n",
       "      <th>Online UX Design Course Amoeba</th>\n",
       "      <td>DSP</td>\n",
       "      <td>0.0</td>\n",
       "    </tr>\n",
       "  </tbody>\n",
       "</table>\n",
       "</div>"
      ],
      "text/plain": [
       "                                     Academy Event  Net Promotor Score\n",
       "Nama Pelatihan                                                        \n",
       "Social Media Ads & Analytic               CONSUMER                 0.0\n",
       "CISM                                          NITS                 0.0\n",
       "Programmer Development Course Amoeba           DSP                 0.0\n",
       "Business Analytics Amoeba                      DSP                 0.0\n",
       "Online UX Design Course Amoeba                 DSP                 0.0"
      ]
     },
     "execution_count": 34,
     "metadata": {},
     "output_type": "execute_result"
    }
   ],
   "source": [
    "DA = data_pelatihan[['Academy Event', 'Net Promotor Score']]\n",
    "DA.head()"
   ]
  },
  {
   "cell_type": "code",
   "execution_count": 35,
   "metadata": {},
   "outputs": [
    {
     "data": {
      "text/html": [
       "<div>\n",
       "<style scoped>\n",
       "    .dataframe tbody tr th:only-of-type {\n",
       "        vertical-align: middle;\n",
       "    }\n",
       "\n",
       "    .dataframe tbody tr th {\n",
       "        vertical-align: top;\n",
       "    }\n",
       "\n",
       "    .dataframe thead th {\n",
       "        text-align: right;\n",
       "    }\n",
       "</style>\n",
       "<table border=\"1\" class=\"dataframe\">\n",
       "  <thead>\n",
       "    <tr style=\"text-align: right;\">\n",
       "      <th></th>\n",
       "      <th>Net Promotor Score</th>\n",
       "    </tr>\n",
       "    <tr>\n",
       "      <th>Academy Event</th>\n",
       "      <th></th>\n",
       "    </tr>\n",
       "  </thead>\n",
       "  <tbody>\n",
       "    <tr>\n",
       "      <th>CONSUMER</th>\n",
       "      <td>0.0</td>\n",
       "    </tr>\n",
       "    <tr>\n",
       "      <th>NITS</th>\n",
       "      <td>0.0</td>\n",
       "    </tr>\n",
       "    <tr>\n",
       "      <th>DSP</th>\n",
       "      <td>0.0</td>\n",
       "    </tr>\n",
       "    <tr>\n",
       "      <th>DSP</th>\n",
       "      <td>0.0</td>\n",
       "    </tr>\n",
       "    <tr>\n",
       "      <th>DSP</th>\n",
       "      <td>0.0</td>\n",
       "    </tr>\n",
       "  </tbody>\n",
       "</table>\n",
       "</div>"
      ],
      "text/plain": [
       "               Net Promotor Score\n",
       "Academy Event                    \n",
       "CONSUMER                      0.0\n",
       "NITS                          0.0\n",
       "DSP                           0.0\n",
       "DSP                           0.0\n",
       "DSP                           0.0"
      ]
     },
     "execution_count": 35,
     "metadata": {},
     "output_type": "execute_result"
    }
   ],
   "source": [
    "DA.set_index('Academy Event', inplace = True)\n",
    "DA.head()"
   ]
  },
  {
   "cell_type": "code",
   "execution_count": 36,
   "metadata": {},
   "outputs": [],
   "source": [
    "hypo1 = DA.loc['DSP']\n",
    "hypo2 = DA.loc['NITS']"
   ]
  },
  {
   "cell_type": "code",
   "execution_count": 37,
   "metadata": {},
   "outputs": [
    {
     "data": {
      "text/plain": [
       "323"
      ]
     },
     "execution_count": 37,
     "metadata": {},
     "output_type": "execute_result"
    }
   ],
   "source": [
    "np.size(hypo1)"
   ]
  },
  {
   "cell_type": "code",
   "execution_count": 38,
   "metadata": {},
   "outputs": [
    {
     "data": {
      "text/plain": [
       "173"
      ]
     },
     "execution_count": 38,
     "metadata": {},
     "output_type": "execute_result"
    }
   ],
   "source": [
    "np.size(hypo2)"
   ]
  },
  {
   "cell_type": "code",
   "execution_count": 39,
   "metadata": {},
   "outputs": [
    {
     "name": "stdout",
     "output_type": "stream",
     "text": [
      "DSP :  323 Net Promotor Score    51.511796\n",
      "dtype: float64 Net Promotor Score    46.894672\n",
      "dtype: float64\n"
     ]
    }
   ],
   "source": [
    "n_hypo1 = 323\n",
    "mean_DSP = hypo1.mean()\n",
    "std_DSP = np.std(hypo1, ddof = 1)\n",
    "print('DSP : ', n_hypo1, mean_DSP, std_DSP)"
   ]
  },
  {
   "cell_type": "code",
   "execution_count": 40,
   "metadata": {},
   "outputs": [
    {
     "name": "stdout",
     "output_type": "stream",
     "text": [
      "NITS:  3071 Net Promotor Score    53.92185\n",
      "dtype: float64 Net Promotor Score    40.051476\n",
      "dtype: float64\n"
     ]
    }
   ],
   "source": [
    "n_hypo2 = 3071\n",
    "mean_NITS = hypo2.mean()\n",
    "std_NITS = np.std(hypo2, ddof = 1)\n",
    "print('NITS: ', n_hypo2, mean_NITS, std_NITS)"
   ]
  },
  {
   "cell_type": "code",
   "execution_count": 41,
   "metadata": {},
   "outputs": [
    {
     "data": {
      "text/plain": [
       "(array([-0.57315392]), array([0.56654048]))"
      ]
     },
     "execution_count": 41,
     "metadata": {},
     "output_type": "execute_result"
    }
   ],
   "source": [
    "sm.stats.ztest(hypo1.dropna(),\n",
    "hypo2.dropna(), alternative = 'two-sided')"
   ]
  },
  {
   "cell_type": "markdown",
   "metadata": {},
   "source": [
    "Dilihat dari hasil maka, maka reject the Null Hypothesis sehingga ada perbedaan mean antara DSP dan NITS"
   ]
  }
 ],
 "metadata": {
  "kernelspec": {
   "display_name": "Python 3",
   "language": "python",
   "name": "python3"
  },
  "language_info": {
   "codemirror_mode": {
    "name": "ipython",
    "version": 3
   },
   "file_extension": ".py",
   "mimetype": "text/x-python",
   "name": "python",
   "nbconvert_exporter": "python",
   "pygments_lexer": "ipython3",
   "version": "3.8.3"
  }
 },
 "nbformat": 4,
 "nbformat_minor": 4
}
