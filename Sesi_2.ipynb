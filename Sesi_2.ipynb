{
  "nbformat": 4,
  "nbformat_minor": 0,
  "metadata": {
    "colab": {
      "name": "Sesi_2.ipynb",
      "provenance": []
    },
    "kernelspec": {
      "name": "python3",
      "display_name": "Python 3"
    }
  },
  "cells": [
    {
      "cell_type": "markdown",
      "metadata": {
        "id": "ROtQr2EC8DOc"
      },
      "source": [
        "SESI 2"
      ]
    },
    {
      "cell_type": "code",
      "metadata": {
        "id": "zLQgEWRl0RAw"
      },
      "source": [
        "x = 5 \n",
        "y = 0 \n",
        "if x<y: \n",
        "  print(\"yes\")\n",
        "  if x>y:\n",
        "    print(\"yes2\")"
      ],
      "execution_count": 7,
      "outputs": []
    },
    {
      "cell_type": "code",
      "metadata": {
        "colab": {
          "base_uri": "https://localhost:8080/"
        },
        "id": "b78Z0pQq9m5C",
        "outputId": "a38c0f77-d896-46d6-87da-8e8316823990"
      },
      "source": [
        "if \"abc\" in \"abcde\" :\n",
        "  print('yes')"
      ],
      "execution_count": 8,
      "outputs": [
        {
          "output_type": "stream",
          "text": [
            "yes\n"
          ],
          "name": "stdout"
        }
      ]
    },
    {
      "cell_type": "code",
      "metadata": {
        "colab": {
          "base_uri": "https://localhost:8080/"
        },
        "id": "EmJnwcJu--ud",
        "outputId": "418bcce3-5546-4b33-86f0-00e8bad78108"
      },
      "source": [
        "if \"ab3\" in \"abcde\" :\n",
        "  print(\"aku\")\n",
        "  print(\"halo\")\n",
        "  print('yuhu')\n",
        "print ('diluar')"
      ],
      "execution_count": 11,
      "outputs": [
        {
          "output_type": "stream",
          "text": [
            "diluar\n"
          ],
          "name": "stdout"
        }
      ]
    },
    {
      "cell_type": "code",
      "metadata": {
        "colab": {
          "base_uri": "https://localhost:8080/"
        },
        "id": "8abSaxmS_blS",
        "outputId": "7f080ae5-25f4-4fb0-ec12-a1c08d2c2329"
      },
      "source": [
        "t = 20 \n",
        "if t<30 :\n",
        "  print('betul')\n",
        "else :\n",
        "  print('salah')\n"
      ],
      "execution_count": 13,
      "outputs": [
        {
          "output_type": "stream",
          "text": [
            "betul\n"
          ],
          "name": "stdout"
        }
      ]
    },
    {
      "cell_type": "code",
      "metadata": {
        "colab": {
          "base_uri": "https://localhost:8080/"
        },
        "id": "-PBPq4MkBVvx",
        "outputId": "4ec895d1-86f4-4009-8302-136b58035a52"
      },
      "source": [
        "hargaBuku = 20000\n",
        "hargaMajalah = 10000\n",
        "uang = 12000\n",
        "if uang > hargaBuku:\n",
        "  print(\"beli Buku\")\n",
        "elif uang > hargaMajalah:\n",
        "  print(\"beli Majalah\")\n",
        "else:\n",
        "  print(\"uang tidak cukup\")\n"
      ],
      "execution_count": 15,
      "outputs": [
        {
          "output_type": "stream",
          "text": [
            "beli Majalah\n"
          ],
          "name": "stdout"
        }
      ]
    },
    {
      "cell_type": "code",
      "metadata": {
        "colab": {
          "base_uri": "https://localhost:8080/"
        },
        "id": "H3B4F77BCHov",
        "outputId": "21f68203-b652-4c3f-92f6-1803b3c1ea87"
      },
      "source": [
        "n = 5\n",
        "while n > 0 :\n",
        "  n-= 1\n",
        "  print(n)"
      ],
      "execution_count": 16,
      "outputs": [
        {
          "output_type": "stream",
          "text": [
            "4\n",
            "3\n",
            "2\n",
            "1\n",
            "0\n"
          ],
          "name": "stdout"
        }
      ]
    },
    {
      "cell_type": "code",
      "metadata": {
        "colab": {
          "base_uri": "https://localhost:8080/"
        },
        "id": "hAaftw-GJyfp",
        "outputId": "21866c2c-9eec-49ed-da2a-c974614d3711"
      },
      "source": [
        "n = 5\n",
        "while n > 0 :\n",
        "  n -= 1\n",
        "  if n == 2:\n",
        "      break\n",
        "  print(n)\n",
        "\n",
        "print('loopselesai')\n"
      ],
      "execution_count": 20,
      "outputs": [
        {
          "output_type": "stream",
          "text": [
            "4\n",
            "3\n",
            "loopselesai\n"
          ],
          "name": "stdout"
        }
      ]
    },
    {
      "cell_type": "code",
      "metadata": {
        "colab": {
          "base_uri": "https://localhost:8080/"
        },
        "id": "X-xQQsu3MBOM",
        "outputId": "6d4df9cb-3f5d-4f82-c39b-747a7cd39c53"
      },
      "source": [
        "n = 5\n",
        "while n > 0 :\n",
        "  n -= 1\n",
        "  if n == 2:\n",
        "      continue\n",
        "  print(n)\n",
        "\n",
        "print('loopselesai')"
      ],
      "execution_count": 21,
      "outputs": [
        {
          "output_type": "stream",
          "text": [
            "4\n",
            "3\n",
            "1\n",
            "0\n",
            "loopselesai\n"
          ],
          "name": "stdout"
        }
      ]
    },
    {
      "cell_type": "code",
      "metadata": {
        "colab": {
          "base_uri": "https://localhost:8080/"
        },
        "id": "Xy-t-ioVMxe-",
        "outputId": "6eeeecac-c7a4-4ed7-df84-b4bbda62800d"
      },
      "source": [
        "a = ['foo' , 'bar']\n",
        "\n",
        "while len (a) :\n",
        "  print(a.pop(0))\n",
        "\n",
        "  b = ['baz', 'qux']\n",
        "\n",
        "  while len(b):\n",
        "    print('--', b.pop(0))\n"
      ],
      "execution_count": 22,
      "outputs": [
        {
          "output_type": "stream",
          "text": [
            "foo\n",
            "-- baz\n",
            "-- qux\n",
            "bar\n",
            "-- baz\n",
            "-- qux\n"
          ],
          "name": "stdout"
        }
      ]
    },
    {
      "cell_type": "code",
      "metadata": {
        "colab": {
          "base_uri": "https://localhost:8080/"
        },
        "id": "PJYl1P3CO-g1",
        "outputId": "0c1c5052-55b7-4980-9869-2e37b71c5681"
      },
      "source": [
        "temp = input ('ketik temperature yang ingin dikonversi')"
      ],
      "execution_count": 27,
      "outputs": [
        {
          "output_type": "stream",
          "text": [
            "ketik temperature yang ingin dikonversi75\n"
          ],
          "name": "stdout"
        }
      ]
    },
    {
      "cell_type": "code",
      "metadata": {
        "colab": {
          "base_uri": "https://localhost:8080/"
        },
        "id": "RzlaljrISloB",
        "outputId": "4d71b355-4f98-4d22-938c-be7723e2c177"
      },
      "source": [
        "print(temp)"
      ],
      "execution_count": 28,
      "outputs": [
        {
          "output_type": "stream",
          "text": [
            "75\n"
          ],
          "name": "stdout"
        }
      ]
    },
    {
      "cell_type": "code",
      "metadata": {
        "id": "4pLiZ2bYS1aJ"
      },
      "source": [
        ""
      ],
      "execution_count": null,
      "outputs": []
    }
  ]
}