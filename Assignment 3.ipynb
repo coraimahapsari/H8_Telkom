{
 "cells": [
  {
   "cell_type": "markdown",
   "metadata": {},
   "source": [
    "# Assignment 3"
   ]
  },
  {
   "cell_type": "markdown",
   "metadata": {},
   "source": [
    "## Data Preparation"
   ]
  },
  {
   "cell_type": "code",
   "execution_count": 67,
   "metadata": {},
   "outputs": [],
   "source": [
    "import numpy as np\n",
    "import pandas as pd\n",
    "import matplotlib as mpl\n",
    "import matplotlib.pyplot as plt\n",
    "import folium\n",
    "mpl.style.use(['ggplot'])\n",
    "\n",
    "%matplotlib inline"
   ]
  },
  {
   "cell_type": "code",
   "execution_count": 68,
   "metadata": {},
   "outputs": [],
   "source": [
    "data_pelatihan = pd.read_excel('./dataset/Feedback_Lat_2020.xlsx')\n",
    "data_elearn = pd.read_excel('./dataset/ELearn_2020.xlsx')\n",
    "data_feedback_elearn= pd.read_excel('./dataset/Feedback_ELearn_2020.xlsx')\n",
    "data_e = pd.read_excel('./dataset/ELearn_2020 - Copy.xlsx')"
   ]
  },
  {
   "cell_type": "code",
   "execution_count": 69,
   "metadata": {
    "scrolled": true
   },
   "outputs": [
    {
     "data": {
      "text/html": [
       "<div>\n",
       "<style scoped>\n",
       "    .dataframe tbody tr th:only-of-type {\n",
       "        vertical-align: middle;\n",
       "    }\n",
       "\n",
       "    .dataframe tbody tr th {\n",
       "        vertical-align: top;\n",
       "    }\n",
       "\n",
       "    .dataframe thead th {\n",
       "        text-align: right;\n",
       "    }\n",
       "</style>\n",
       "<table border=\"1\" class=\"dataframe\">\n",
       "  <thead>\n",
       "    <tr style=\"text-align: right;\">\n",
       "      <th></th>\n",
       "      <th>BULAN</th>\n",
       "      <th>USERNAME</th>\n",
       "      <th>CFU/FU</th>\n",
       "      <th>DIVISI</th>\n",
       "      <th>NAME</th>\n",
       "      <th>SURNAME</th>\n",
       "      <th>HCBP</th>\n",
       "      <th>COURSE</th>\n",
       "      <th>SCORE</th>\n",
       "      <th>TGL PRE TEST</th>\n",
       "      <th>PRE TEST</th>\n",
       "      <th>TGL POST TEST</th>\n",
       "      <th>POST TEST</th>\n",
       "      <th>STATUS</th>\n",
       "      <th>JOB FAMILY</th>\n",
       "    </tr>\n",
       "  </thead>\n",
       "  <tbody>\n",
       "    <tr>\n",
       "      <th>0</th>\n",
       "      <td>1</td>\n",
       "      <td>120180321</td>\n",
       "      <td>CFU CONSUMER</td>\n",
       "      <td>DIV-TR7</td>\n",
       "      <td>NURFAINI ROFIFAH</td>\n",
       "      <td>-120180321</td>\n",
       "      <td>HCBP 1</td>\n",
       "      <td>9 Core Element of Marketing</td>\n",
       "      <td>90.00</td>\n",
       "      <td>2020-01-24</td>\n",
       "      <td>40</td>\n",
       "      <td>-</td>\n",
       "      <td>-</td>\n",
       "      <td>BELUM AKSES</td>\n",
       "      <td>EL - Commerce &amp;amp; Relations</td>\n",
       "    </tr>\n",
       "    <tr>\n",
       "      <th>1</th>\n",
       "      <td>1</td>\n",
       "      <td>625140</td>\n",
       "      <td>CFU CONSUMER</td>\n",
       "      <td>DIV-TR2</td>\n",
       "      <td>SAMAD PANENGKE</td>\n",
       "      <td>-625140</td>\n",
       "      <td>HCBP 1</td>\n",
       "      <td>PT - 2 Project</td>\n",
       "      <td>94.73</td>\n",
       "      <td>2020-01-29</td>\n",
       "      <td>80</td>\n",
       "      <td>2020-01-31</td>\n",
       "      <td>100</td>\n",
       "      <td>LULUS</td>\n",
       "      <td>NaN</td>\n",
       "    </tr>\n",
       "    <tr>\n",
       "      <th>2</th>\n",
       "      <td>1</td>\n",
       "      <td>625143</td>\n",
       "      <td>CFU CONSUMER</td>\n",
       "      <td>DIV-TR2</td>\n",
       "      <td>DEDI SARDANI</td>\n",
       "      <td>-625143</td>\n",
       "      <td>HCBP 1</td>\n",
       "      <td>CX Transformation Program Behavior Skill Techn...</td>\n",
       "      <td>92.13</td>\n",
       "      <td>2020-01-27</td>\n",
       "      <td>70</td>\n",
       "      <td>2020-01-28</td>\n",
       "      <td>93.33</td>\n",
       "      <td>LULUS</td>\n",
       "      <td>NaN</td>\n",
       "    </tr>\n",
       "    <tr>\n",
       "      <th>3</th>\n",
       "      <td>1</td>\n",
       "      <td>625143</td>\n",
       "      <td>CFU CONSUMER</td>\n",
       "      <td>DIV-TR2</td>\n",
       "      <td>DEDI SARDANI</td>\n",
       "      <td>-625143</td>\n",
       "      <td>HCBP 1</td>\n",
       "      <td>CX Transformation Program Behavior Skill Techn...</td>\n",
       "      <td>92.20</td>\n",
       "      <td>2020-01-27</td>\n",
       "      <td>40</td>\n",
       "      <td>2020-01-28</td>\n",
       "      <td>100</td>\n",
       "      <td>LULUS</td>\n",
       "      <td>NaN</td>\n",
       "    </tr>\n",
       "    <tr>\n",
       "      <th>4</th>\n",
       "      <td>1</td>\n",
       "      <td>625143</td>\n",
       "      <td>CFU CONSUMER</td>\n",
       "      <td>DIV-TR2</td>\n",
       "      <td>DEDI SARDANI</td>\n",
       "      <td>-625143</td>\n",
       "      <td>HCBP 1</td>\n",
       "      <td>DigiERP</td>\n",
       "      <td>91.11</td>\n",
       "      <td>2020-01-28</td>\n",
       "      <td>80</td>\n",
       "      <td>2020-01-28</td>\n",
       "      <td>85</td>\n",
       "      <td>LULUS</td>\n",
       "      <td>NaN</td>\n",
       "    </tr>\n",
       "  </tbody>\n",
       "</table>\n",
       "</div>"
      ],
      "text/plain": [
       "   BULAN   USERNAME        CFU/FU   DIVISI              NAME     SURNAME  \\\n",
       "0      1  120180321  CFU CONSUMER  DIV-TR7  NURFAINI ROFIFAH  -120180321   \n",
       "1      1     625140  CFU CONSUMER  DIV-TR2    SAMAD PANENGKE     -625140   \n",
       "2      1     625143  CFU CONSUMER  DIV-TR2      DEDI SARDANI     -625143   \n",
       "3      1     625143  CFU CONSUMER  DIV-TR2      DEDI SARDANI     -625143   \n",
       "4      1     625143  CFU CONSUMER  DIV-TR2      DEDI SARDANI     -625143   \n",
       "\n",
       "     HCBP                                             COURSE  SCORE  \\\n",
       "0  HCBP 1                        9 Core Element of Marketing  90.00   \n",
       "1  HCBP 1                                     PT - 2 Project  94.73   \n",
       "2  HCBP 1  CX Transformation Program Behavior Skill Techn...  92.13   \n",
       "3  HCBP 1  CX Transformation Program Behavior Skill Techn...  92.20   \n",
       "4  HCBP 1                                            DigiERP  91.11   \n",
       "\n",
       "  TGL PRE TEST PRE TEST TGL POST TEST POST TEST       STATUS  \\\n",
       "0   2020-01-24       40             -         -  BELUM AKSES   \n",
       "1   2020-01-29       80    2020-01-31       100        LULUS   \n",
       "2   2020-01-27       70    2020-01-28     93.33        LULUS   \n",
       "3   2020-01-27       40    2020-01-28       100        LULUS   \n",
       "4   2020-01-28       80    2020-01-28        85        LULUS   \n",
       "\n",
       "                      JOB FAMILY  \n",
       "0  EL - Commerce &amp; Relations  \n",
       "1                            NaN  \n",
       "2                            NaN  \n",
       "3                            NaN  \n",
       "4                            NaN  "
      ]
     },
     "execution_count": 69,
     "metadata": {},
     "output_type": "execute_result"
    }
   ],
   "source": [
    "data_e.head()"
   ]
  },
  {
   "cell_type": "code",
   "execution_count": 70,
   "metadata": {},
   "outputs": [
    {
     "data": {
      "text/html": [
       "<div>\n",
       "<style scoped>\n",
       "    .dataframe tbody tr th:only-of-type {\n",
       "        vertical-align: middle;\n",
       "    }\n",
       "\n",
       "    .dataframe tbody tr th {\n",
       "        vertical-align: top;\n",
       "    }\n",
       "\n",
       "    .dataframe thead th {\n",
       "        text-align: right;\n",
       "    }\n",
       "</style>\n",
       "<table border=\"1\" class=\"dataframe\">\n",
       "  <thead>\n",
       "    <tr style=\"text-align: right;\">\n",
       "      <th></th>\n",
       "      <th>BULAN</th>\n",
       "      <th>USERNAME</th>\n",
       "      <th>CFU/FU</th>\n",
       "      <th>DIVISI</th>\n",
       "      <th>NAME</th>\n",
       "      <th>SURNAME</th>\n",
       "      <th>HCBP</th>\n",
       "      <th>COURSE</th>\n",
       "      <th>SCORE</th>\n",
       "      <th>TGL PRE TEST</th>\n",
       "      <th>PRE TEST</th>\n",
       "      <th>TGL POST TEST</th>\n",
       "      <th>POST TEST</th>\n",
       "      <th>STATUS</th>\n",
       "      <th>JOB FAMILY</th>\n",
       "    </tr>\n",
       "  </thead>\n",
       "  <tbody>\n",
       "    <tr>\n",
       "      <th>0</th>\n",
       "      <td>1</td>\n",
       "      <td>120180321</td>\n",
       "      <td>CFU CONSUMER</td>\n",
       "      <td>DIV-TR7</td>\n",
       "      <td>NURFAINI ROFIFAH</td>\n",
       "      <td>-120180321</td>\n",
       "      <td>HCBP 1</td>\n",
       "      <td>9 Core Element of Marketing</td>\n",
       "      <td>90.00</td>\n",
       "      <td>2020-01-24</td>\n",
       "      <td>40</td>\n",
       "      <td>-</td>\n",
       "      <td>-</td>\n",
       "      <td>BELUM AKSES</td>\n",
       "      <td>EL - Commerce &amp;amp; Relations</td>\n",
       "    </tr>\n",
       "    <tr>\n",
       "      <th>1</th>\n",
       "      <td>1</td>\n",
       "      <td>625140</td>\n",
       "      <td>CFU CONSUMER</td>\n",
       "      <td>DIV-TR2</td>\n",
       "      <td>SAMAD PANENGKE</td>\n",
       "      <td>-625140</td>\n",
       "      <td>HCBP 1</td>\n",
       "      <td>PT - 2 Project</td>\n",
       "      <td>94.73</td>\n",
       "      <td>2020-01-29</td>\n",
       "      <td>80</td>\n",
       "      <td>2020-01-31</td>\n",
       "      <td>100</td>\n",
       "      <td>LULUS</td>\n",
       "      <td>NaN</td>\n",
       "    </tr>\n",
       "    <tr>\n",
       "      <th>2</th>\n",
       "      <td>1</td>\n",
       "      <td>625143</td>\n",
       "      <td>CFU CONSUMER</td>\n",
       "      <td>DIV-TR2</td>\n",
       "      <td>DEDI SARDANI</td>\n",
       "      <td>-625143</td>\n",
       "      <td>HCBP 1</td>\n",
       "      <td>CX Transformation Program Behavior Skill Techn...</td>\n",
       "      <td>92.13</td>\n",
       "      <td>2020-01-27</td>\n",
       "      <td>70</td>\n",
       "      <td>2020-01-28</td>\n",
       "      <td>93.33</td>\n",
       "      <td>LULUS</td>\n",
       "      <td>NaN</td>\n",
       "    </tr>\n",
       "    <tr>\n",
       "      <th>3</th>\n",
       "      <td>1</td>\n",
       "      <td>625143</td>\n",
       "      <td>CFU CONSUMER</td>\n",
       "      <td>DIV-TR2</td>\n",
       "      <td>DEDI SARDANI</td>\n",
       "      <td>-625143</td>\n",
       "      <td>HCBP 1</td>\n",
       "      <td>CX Transformation Program Behavior Skill Techn...</td>\n",
       "      <td>92.20</td>\n",
       "      <td>2020-01-27</td>\n",
       "      <td>40</td>\n",
       "      <td>2020-01-28</td>\n",
       "      <td>100</td>\n",
       "      <td>LULUS</td>\n",
       "      <td>NaN</td>\n",
       "    </tr>\n",
       "    <tr>\n",
       "      <th>4</th>\n",
       "      <td>1</td>\n",
       "      <td>625143</td>\n",
       "      <td>CFU CONSUMER</td>\n",
       "      <td>DIV-TR2</td>\n",
       "      <td>DEDI SARDANI</td>\n",
       "      <td>-625143</td>\n",
       "      <td>HCBP 1</td>\n",
       "      <td>DigiERP</td>\n",
       "      <td>91.11</td>\n",
       "      <td>2020-01-28</td>\n",
       "      <td>80</td>\n",
       "      <td>2020-01-28</td>\n",
       "      <td>85</td>\n",
       "      <td>LULUS</td>\n",
       "      <td>NaN</td>\n",
       "    </tr>\n",
       "    <tr>\n",
       "      <th>...</th>\n",
       "      <td>...</td>\n",
       "      <td>...</td>\n",
       "      <td>...</td>\n",
       "      <td>...</td>\n",
       "      <td>...</td>\n",
       "      <td>...</td>\n",
       "      <td>...</td>\n",
       "      <td>...</td>\n",
       "      <td>...</td>\n",
       "      <td>...</td>\n",
       "      <td>...</td>\n",
       "      <td>...</td>\n",
       "      <td>...</td>\n",
       "      <td>...</td>\n",
       "      <td>...</td>\n",
       "    </tr>\n",
       "    <tr>\n",
       "      <th>289052</th>\n",
       "      <td>11</td>\n",
       "      <td>csr29872</td>\n",
       "      <td>T</td>\n",
       "      <td>T</td>\n",
       "      <td>STEVANO LACARUS BOLLY</td>\n",
       "      <td>csr29872</td>\n",
       "      <td>T</td>\n",
       "      <td>Consultative Selling New</td>\n",
       "      <td>96.79</td>\n",
       "      <td>2020-11-18</td>\n",
       "      <td>80</td>\n",
       "      <td>2020-11-18</td>\n",
       "      <td>90</td>\n",
       "      <td>LULUS</td>\n",
       "      <td>NaN</td>\n",
       "    </tr>\n",
       "    <tr>\n",
       "      <th>289053</th>\n",
       "      <td>11</td>\n",
       "      <td>890109</td>\n",
       "      <td>CEO OFFICE</td>\n",
       "      <td>DEP-INA</td>\n",
       "      <td>SAMUEL P. SIMANJUNTAK</td>\n",
       "      <td>890109</td>\n",
       "      <td>HCBP 5</td>\n",
       "      <td>AKHLAK &amp; Telkom CODES</td>\n",
       "      <td>NaN</td>\n",
       "      <td>2020-11-19</td>\n",
       "      <td>90</td>\n",
       "      <td>2020-11-19</td>\n",
       "      <td>90</td>\n",
       "      <td>LULUS</td>\n",
       "      <td>NaN</td>\n",
       "    </tr>\n",
       "    <tr>\n",
       "      <th>289054</th>\n",
       "      <td>11</td>\n",
       "      <td>220046</td>\n",
       "      <td>CFU MOBILE</td>\n",
       "      <td>JVC-TSL</td>\n",
       "      <td>DINDA NOVITASARI</td>\n",
       "      <td>220046</td>\n",
       "      <td>HCBP 1</td>\n",
       "      <td>AKHLAK &amp; Telkom CODES</td>\n",
       "      <td>NaN</td>\n",
       "      <td>2020-11-24</td>\n",
       "      <td>80</td>\n",
       "      <td>2020-11-24</td>\n",
       "      <td>90</td>\n",
       "      <td>LULUS</td>\n",
       "      <td>NaN</td>\n",
       "    </tr>\n",
       "    <tr>\n",
       "      <th>289055</th>\n",
       "      <td>11</td>\n",
       "      <td>905644</td>\n",
       "      <td>CFU ENTERPRISE</td>\n",
       "      <td>JVC-ADM</td>\n",
       "      <td>DAMIANUS DANNY</td>\n",
       "      <td>905644</td>\n",
       "      <td>HCBP 2</td>\n",
       "      <td>AKHLAK &amp; Telkom CODES</td>\n",
       "      <td>NaN</td>\n",
       "      <td>2020-11-30</td>\n",
       "      <td>80</td>\n",
       "      <td>2020-11-30</td>\n",
       "      <td>80</td>\n",
       "      <td>LULUS</td>\n",
       "      <td>NaN</td>\n",
       "    </tr>\n",
       "    <tr>\n",
       "      <th>289056</th>\n",
       "      <td>11</td>\n",
       "      <td>885646</td>\n",
       "      <td>CFU ENTERPRISE</td>\n",
       "      <td>JVC-ADM</td>\n",
       "      <td>RUTH NATASHIA PRATIWI</td>\n",
       "      <td>885646</td>\n",
       "      <td>HCBP 2</td>\n",
       "      <td>AKHLAK &amp; Telkom CODES</td>\n",
       "      <td>NaN</td>\n",
       "      <td>2020-11-30</td>\n",
       "      <td>60</td>\n",
       "      <td>2020-11-30</td>\n",
       "      <td>90</td>\n",
       "      <td>LULUS</td>\n",
       "      <td>NaN</td>\n",
       "    </tr>\n",
       "  </tbody>\n",
       "</table>\n",
       "<p>289057 rows × 15 columns</p>\n",
       "</div>"
      ],
      "text/plain": [
       "        BULAN   USERNAME          CFU/FU   DIVISI                   NAME  \\\n",
       "0           1  120180321    CFU CONSUMER  DIV-TR7       NURFAINI ROFIFAH   \n",
       "1           1     625140    CFU CONSUMER  DIV-TR2         SAMAD PANENGKE   \n",
       "2           1     625143    CFU CONSUMER  DIV-TR2           DEDI SARDANI   \n",
       "3           1     625143    CFU CONSUMER  DIV-TR2           DEDI SARDANI   \n",
       "4           1     625143    CFU CONSUMER  DIV-TR2           DEDI SARDANI   \n",
       "...       ...        ...             ...      ...                    ...   \n",
       "289052     11   csr29872               T        T  STEVANO LACARUS BOLLY   \n",
       "289053     11     890109      CEO OFFICE  DEP-INA  SAMUEL P. SIMANJUNTAK   \n",
       "289054     11     220046      CFU MOBILE  JVC-TSL       DINDA NOVITASARI   \n",
       "289055     11     905644  CFU ENTERPRISE  JVC-ADM         DAMIANUS DANNY   \n",
       "289056     11     885646  CFU ENTERPRISE  JVC-ADM  RUTH NATASHIA PRATIWI   \n",
       "\n",
       "           SURNAME    HCBP                                             COURSE  \\\n",
       "0       -120180321  HCBP 1                        9 Core Element of Marketing   \n",
       "1          -625140  HCBP 1                                     PT - 2 Project   \n",
       "2          -625143  HCBP 1  CX Transformation Program Behavior Skill Techn...   \n",
       "3          -625143  HCBP 1  CX Transformation Program Behavior Skill Techn...   \n",
       "4          -625143  HCBP 1                                            DigiERP   \n",
       "...            ...     ...                                                ...   \n",
       "289052    csr29872       T                           Consultative Selling New   \n",
       "289053      890109  HCBP 5                              AKHLAK & Telkom CODES   \n",
       "289054      220046  HCBP 1                              AKHLAK & Telkom CODES   \n",
       "289055      905644  HCBP 2                              AKHLAK & Telkom CODES   \n",
       "289056      885646  HCBP 2                              AKHLAK & Telkom CODES   \n",
       "\n",
       "        SCORE TGL PRE TEST PRE TEST TGL POST TEST POST TEST       STATUS  \\\n",
       "0       90.00   2020-01-24       40             -         -  BELUM AKSES   \n",
       "1       94.73   2020-01-29       80    2020-01-31       100        LULUS   \n",
       "2       92.13   2020-01-27       70    2020-01-28     93.33        LULUS   \n",
       "3       92.20   2020-01-27       40    2020-01-28       100        LULUS   \n",
       "4       91.11   2020-01-28       80    2020-01-28        85        LULUS   \n",
       "...       ...          ...      ...           ...       ...          ...   \n",
       "289052  96.79   2020-11-18       80    2020-11-18        90        LULUS   \n",
       "289053    NaN   2020-11-19       90    2020-11-19        90        LULUS   \n",
       "289054    NaN   2020-11-24       80    2020-11-24        90        LULUS   \n",
       "289055    NaN   2020-11-30       80    2020-11-30        80        LULUS   \n",
       "289056    NaN   2020-11-30       60    2020-11-30        90        LULUS   \n",
       "\n",
       "                           JOB FAMILY  \n",
       "0       EL - Commerce &amp; Relations  \n",
       "1                                 NaN  \n",
       "2                                 NaN  \n",
       "3                                 NaN  \n",
       "4                                 NaN  \n",
       "...                               ...  \n",
       "289052                            NaN  \n",
       "289053                            NaN  \n",
       "289054                            NaN  \n",
       "289055                            NaN  \n",
       "289056                            NaN  \n",
       "\n",
       "[289057 rows x 15 columns]"
      ]
     },
     "execution_count": 70,
     "metadata": {},
     "output_type": "execute_result"
    }
   ],
   "source": [
    "data_e = data_e.rename(columns={'Month': 'Monthssss'})\n",
    "data_e"
   ]
  },
  {
   "cell_type": "code",
   "execution_count": 71,
   "metadata": {},
   "outputs": [
    {
     "data": {
      "text/plain": [
       "289047    100\n",
       "289048     90\n",
       "289049     50\n",
       "289050     90\n",
       "289051     90\n",
       "289052     80\n",
       "289053     90\n",
       "289054     80\n",
       "289055     80\n",
       "289056     60\n",
       "Name: PRE TEST, dtype: object"
      ]
     },
     "execution_count": 71,
     "metadata": {},
     "output_type": "execute_result"
    }
   ],
   "source": [
    "data_e['PRE TEST'].tail(10)\n",
    "# .tail(30)"
   ]
  },
  {
   "cell_type": "code",
   "execution_count": 72,
   "metadata": {},
   "outputs": [
    {
     "name": "stderr",
     "output_type": "stream",
     "text": [
      "<ipython-input-72-7faf95f723cb>:2: SettingWithCopyWarning: \n",
      "A value is trying to be set on a copy of a slice from a DataFrame\n",
      "\n",
      "See the caveats in the documentation: https://pandas.pydata.org/pandas-docs/stable/user_guide/indexing.html#returning-a-view-versus-a-copy\n",
      "  data_e['STATUS'][data_e.STATUS != 'LULUS'] = data_e['STATUS'][data_e.STATUS != 'LULUS'] = 'TIDAK LULUS'\n"
     ]
    },
    {
     "data": {
      "text/plain": [
       "LULUS          250297\n",
       "TIDAK LULUS     38760\n",
       "Name: STATUS, dtype: int64"
      ]
     },
     "execution_count": 72,
     "metadata": {},
     "output_type": "execute_result"
    }
   ],
   "source": [
    "# cleansing feature status\n",
    "data_e['STATUS'][data_e.STATUS != 'LULUS'] = data_e['STATUS'][data_e.STATUS != 'LULUS'] = 'TIDAK LULUS'\n",
    "data_e['STATUS'].value_counts().head(100)"
   ]
  },
  {
   "cell_type": "code",
   "execution_count": 73,
   "metadata": {},
   "outputs": [
    {
     "data": {
      "text/plain": [
       "BULAN                 0\n",
       "USERNAME              0\n",
       "CFU/FU              138\n",
       "DIVISI              139\n",
       "NAME                  3\n",
       "SURNAME               0\n",
       "HCBP                315\n",
       "COURSE                0\n",
       "SCORE             44565\n",
       "TGL PRE TEST       4147\n",
       "PRE TEST           4147\n",
       "TGL POST TEST         0\n",
       "POST TEST             0\n",
       "STATUS                0\n",
       "JOB FAMILY       181028\n",
       "dtype: int64"
      ]
     },
     "execution_count": 73,
     "metadata": {},
     "output_type": "execute_result"
    }
   ],
   "source": [
    "data_e.isna().sum()"
   ]
  },
  {
   "cell_type": "code",
   "execution_count": 74,
   "metadata": {},
   "outputs": [],
   "source": [
    "# change all 'object' to numeric method 1\n",
    "data_e['SCORE'] = pd.to_numeric(data_e['SCORE'], errors='coerce')\n",
    "data_e['POST TEST'] = pd.to_numeric(data_e['POST TEST'], errors='coerce')"
   ]
  },
  {
   "cell_type": "code",
   "execution_count": 75,
   "metadata": {},
   "outputs": [
    {
     "data": {
      "text/html": [
       "<div>\n",
       "<style scoped>\n",
       "    .dataframe tbody tr th:only-of-type {\n",
       "        vertical-align: middle;\n",
       "    }\n",
       "\n",
       "    .dataframe tbody tr th {\n",
       "        vertical-align: top;\n",
       "    }\n",
       "\n",
       "    .dataframe thead th {\n",
       "        text-align: right;\n",
       "    }\n",
       "</style>\n",
       "<table border=\"1\" class=\"dataframe\">\n",
       "  <thead>\n",
       "    <tr style=\"text-align: right;\">\n",
       "      <th></th>\n",
       "      <th>SCORE</th>\n",
       "      <th>POST TEST</th>\n",
       "      <th>STATUS</th>\n",
       "    </tr>\n",
       "  </thead>\n",
       "  <tbody>\n",
       "    <tr>\n",
       "      <th>1</th>\n",
       "      <td>94.73</td>\n",
       "      <td>100.00</td>\n",
       "      <td>LULUS</td>\n",
       "    </tr>\n",
       "    <tr>\n",
       "      <th>2</th>\n",
       "      <td>92.13</td>\n",
       "      <td>93.33</td>\n",
       "      <td>LULUS</td>\n",
       "    </tr>\n",
       "    <tr>\n",
       "      <th>3</th>\n",
       "      <td>92.20</td>\n",
       "      <td>100.00</td>\n",
       "      <td>LULUS</td>\n",
       "    </tr>\n",
       "    <tr>\n",
       "      <th>4</th>\n",
       "      <td>91.11</td>\n",
       "      <td>85.00</td>\n",
       "      <td>LULUS</td>\n",
       "    </tr>\n",
       "    <tr>\n",
       "      <th>5</th>\n",
       "      <td>92.13</td>\n",
       "      <td>93.33</td>\n",
       "      <td>LULUS</td>\n",
       "    </tr>\n",
       "    <tr>\n",
       "      <th>...</th>\n",
       "      <td>...</td>\n",
       "      <td>...</td>\n",
       "      <td>...</td>\n",
       "    </tr>\n",
       "    <tr>\n",
       "      <th>289048</th>\n",
       "      <td>96.79</td>\n",
       "      <td>100.00</td>\n",
       "      <td>LULUS</td>\n",
       "    </tr>\n",
       "    <tr>\n",
       "      <th>289049</th>\n",
       "      <td>92.62</td>\n",
       "      <td>80.00</td>\n",
       "      <td>LULUS</td>\n",
       "    </tr>\n",
       "    <tr>\n",
       "      <th>289050</th>\n",
       "      <td>96.79</td>\n",
       "      <td>100.00</td>\n",
       "      <td>LULUS</td>\n",
       "    </tr>\n",
       "    <tr>\n",
       "      <th>289051</th>\n",
       "      <td>96.79</td>\n",
       "      <td>90.00</td>\n",
       "      <td>LULUS</td>\n",
       "    </tr>\n",
       "    <tr>\n",
       "      <th>289052</th>\n",
       "      <td>96.79</td>\n",
       "      <td>90.00</td>\n",
       "      <td>LULUS</td>\n",
       "    </tr>\n",
       "  </tbody>\n",
       "</table>\n",
       "<p>233174 rows × 3 columns</p>\n",
       "</div>"
      ],
      "text/plain": [
       "        SCORE  POST TEST STATUS\n",
       "1       94.73     100.00  LULUS\n",
       "2       92.13      93.33  LULUS\n",
       "3       92.20     100.00  LULUS\n",
       "4       91.11      85.00  LULUS\n",
       "5       92.13      93.33  LULUS\n",
       "...       ...        ...    ...\n",
       "289048  96.79     100.00  LULUS\n",
       "289049  92.62      80.00  LULUS\n",
       "289050  96.79     100.00  LULUS\n",
       "289051  96.79      90.00  LULUS\n",
       "289052  96.79      90.00  LULUS\n",
       "\n",
       "[233174 rows x 3 columns]"
      ]
     },
     "execution_count": 75,
     "metadata": {},
     "output_type": "execute_result"
    }
   ],
   "source": [
    "# df_data = pd.DataFrame\n",
    "df_data = pd.DataFrame(data_e)\n",
    "# df_data['POST TEST'] = pd.DataFrame(data_e['POST TEST'])\n",
    "# df_data['STATUS'] = pd.DataFrame(feedback_elearning['STATUS'])\n",
    "\n",
    "df_data.drop(['BULAN', 'USERNAME', 'CFU/FU', 'DIVISI', 'NAME', 'SURNAME', 'HCBP', 'COURSE', 'TGL PRE TEST','PRE TEST', 'TGL POST TEST', 'JOB FAMILY'], axis=1, inplace=True)\n",
    "df_data.dropna(inplace=True)\n",
    "df_data"
   ]
  },
  {
   "cell_type": "code",
   "execution_count": 76,
   "metadata": {},
   "outputs": [
    {
     "name": "stdout",
     "output_type": "stream",
     "text": [
      "<class 'pandas.core.frame.DataFrame'>\n",
      "Int64Index: 233174 entries, 1 to 289052\n",
      "Data columns (total 3 columns):\n",
      " #   Column     Non-Null Count   Dtype  \n",
      "---  ------     --------------   -----  \n",
      " 0   SCORE      233174 non-null  float64\n",
      " 1   POST TEST  233174 non-null  float64\n",
      " 2   STATUS     233174 non-null  object \n",
      "dtypes: float64(2), object(1)\n",
      "memory usage: 7.1+ MB\n"
     ]
    }
   ],
   "source": [
    "df_data.info()"
   ]
  },
  {
   "cell_type": "markdown",
   "metadata": {},
   "source": [
    "## Logistic Regression"
   ]
  },
  {
   "cell_type": "code",
   "execution_count": 77,
   "metadata": {},
   "outputs": [],
   "source": [
    "# Prediksi lulus atau tidak lulus berdasarkan data score e-learning dan post test\n",
    "# data_x = score e-learning dan post test\n",
    "# data_y = status"
   ]
  },
  {
   "cell_type": "code",
   "execution_count": 78,
   "metadata": {},
   "outputs": [],
   "source": [
    "import matplotlib.pyplot as plt\n",
    "import numpy as np\n",
    "\n",
    "from sklearn.linear_model import LogisticRegression\n",
    "from sklearn.model_selection import train_test_split\n",
    "from sklearn.metrics import classification_report, confusion_matrix\n",
    "from sklearn.datasets import load_digits\n",
    "from sklearn.preprocessing import StandardScaler\n",
    "from sklearn import metrics"
   ]
  },
  {
   "cell_type": "code",
   "execution_count": 79,
   "metadata": {},
   "outputs": [
    {
     "data": {
      "text/plain": [
       "['SCORE', 'POST TEST', 'STATUS']"
      ]
     },
     "execution_count": 79,
     "metadata": {},
     "output_type": "execute_result"
    }
   ],
   "source": [
    "list(df_data.columns)"
   ]
  },
  {
   "cell_type": "code",
   "execution_count": 80,
   "metadata": {},
   "outputs": [],
   "source": [
    "# Split data\n",
    "x_train, x_test, y_train, y_test = train_test_split(df_data[['SCORE']+['POST TEST']], df_data[['STATUS']], test_size=0.2, random_state=0)"
   ]
  },
  {
   "cell_type": "code",
   "execution_count": 81,
   "metadata": {},
   "outputs": [
    {
     "data": {
      "text/plain": [
       "((186539, 2), (46635, 2), (186539, 1), (46635, 1))"
      ]
     },
     "execution_count": 81,
     "metadata": {},
     "output_type": "execute_result"
    }
   ],
   "source": [
    "(x_train.shape, x_test.shape, y_train.shape, y_test.shape)"
   ]
  },
  {
   "cell_type": "code",
   "execution_count": 82,
   "metadata": {},
   "outputs": [],
   "source": [
    "scaler = StandardScaler()\n",
    "x_train = scaler.fit_transform(x_train)"
   ]
  },
  {
   "cell_type": "code",
   "execution_count": 83,
   "metadata": {},
   "outputs": [
    {
     "data": {
      "text/plain": [
       "(186539, 2)"
      ]
     },
     "execution_count": 83,
     "metadata": {},
     "output_type": "execute_result"
    }
   ],
   "source": [
    "x_train.shape"
   ]
  },
  {
   "cell_type": "code",
   "execution_count": 84,
   "metadata": {},
   "outputs": [
    {
     "name": "stderr",
     "output_type": "stream",
     "text": [
      "C:\\Users\\950351\\anaconda3\\lib\\site-packages\\sklearn\\utils\\validation.py:73: DataConversionWarning: A column-vector y was passed when a 1d array was expected. Please change the shape of y to (n_samples, ), for example using ravel().\n",
      "  return f(**kwargs)\n"
     ]
    },
    {
     "data": {
      "text/plain": [
       "LogisticRegression(random_state=0, solver='liblinear')"
      ]
     },
     "execution_count": 84,
     "metadata": {},
     "output_type": "execute_result"
    }
   ],
   "source": [
    "model = LogisticRegression(solver='liblinear', random_state=0)\n",
    "model.fit(x_train, y_train)"
   ]
  },
  {
   "cell_type": "code",
   "execution_count": 85,
   "metadata": {},
   "outputs": [
    {
     "data": {
      "text/plain": [
       "array(['LULUS', 'TIDAK LULUS'], dtype=object)"
      ]
     },
     "execution_count": 85,
     "metadata": {},
     "output_type": "execute_result"
    }
   ],
   "source": [
    "model.classes_"
   ]
  },
  {
   "cell_type": "code",
   "execution_count": 86,
   "metadata": {},
   "outputs": [],
   "source": [
    "x_test = scaler.transform(x_test)"
   ]
  },
  {
   "cell_type": "code",
   "execution_count": 87,
   "metadata": {},
   "outputs": [
    {
     "data": {
      "text/plain": [
       "array([[1.00000000e+00, 3.47640618e-14],\n",
       "       [1.00000000e+00, 2.72759730e-19],\n",
       "       [2.19929275e-09, 9.99999998e-01],\n",
       "       ...,\n",
       "       [1.00000000e+00, 2.74319847e-19],\n",
       "       [9.99988890e-01, 1.11096331e-05],\n",
       "       [1.00000000e+00, 1.23969699e-11]])"
      ]
     },
     "execution_count": 87,
     "metadata": {},
     "output_type": "execute_result"
    }
   ],
   "source": [
    "model.predict_proba(x_train)"
   ]
  },
  {
   "cell_type": "code",
   "execution_count": 88,
   "metadata": {},
   "outputs": [
    {
     "data": {
      "text/plain": [
       "array(['LULUS', 'LULUS', 'LULUS', ..., 'LULUS', 'LULUS', 'LULUS'],\n",
       "      dtype=object)"
      ]
     },
     "execution_count": 88,
     "metadata": {},
     "output_type": "execute_result"
    }
   ],
   "source": [
    "y_pred = model.predict(x_test)\n",
    "y_pred"
   ]
  },
  {
   "cell_type": "code",
   "execution_count": 89,
   "metadata": {},
   "outputs": [
    {
     "data": {
      "text/plain": [
       "0.9998820621961091"
      ]
     },
     "execution_count": 89,
     "metadata": {},
     "output_type": "execute_result"
    }
   ],
   "source": [
    "# akurasi data train\n",
    "model.score(x_train, y_train)"
   ]
  },
  {
   "cell_type": "code",
   "execution_count": 90,
   "metadata": {},
   "outputs": [
    {
     "data": {
      "text/plain": [
       "0.9998927843894071"
      ]
     },
     "execution_count": 90,
     "metadata": {},
     "output_type": "execute_result"
    }
   ],
   "source": [
    "# akurasi data test\n",
    "metrics.accuracy_score(y_pred, y_test)"
   ]
  },
  {
   "cell_type": "code",
   "execution_count": 91,
   "metadata": {},
   "outputs": [
    {
     "data": {
      "text/plain": [
       "array([[41626,     0],\n",
       "       [    5,  5004]], dtype=int64)"
      ]
     },
     "execution_count": 91,
     "metadata": {},
     "output_type": "execute_result"
    }
   ],
   "source": [
    "confusion_matrix(y_test, y_pred)"
   ]
  },
  {
   "cell_type": "code",
   "execution_count": 92,
   "metadata": {},
   "outputs": [
    {
     "data": {
      "image/png": "[encoded data removed]",
      "text/plain": [
       "<Figure size 576x576 with 1 Axes>"
      ]
     },
     "metadata": {
      "needs_background": "light"
     },
     "output_type": "display_data"
    }
   ],
   "source": [
    "cm = confusion_matrix(y_test, y_pred)\n",
    "\n",
    "fig, ax = plt.subplots(figsize=(8, 8))\n",
    "ax.imshow(cm)\n",
    "ax.grid(False)\n",
    "ax.xaxis.set(ticks=(0, 1), ticklabels=('Predicted LULUS', 'Predicted TIDAK LULUS'))\n",
    "ax.yaxis.set(ticks=(0, 1), ticklabels=('Actual LULUS', 'Actual TIDAK LULUS'))\n",
    "ax.set_ylim(1.5, -0.5)\n",
    "for i in range(2):\n",
    "    for j in range(2):\n",
    "        ax.text(j, i, cm[i, j], ha='center', va='center', color='red')\n",
    "plt.show()"
   ]
  },
  {
   "cell_type": "markdown",
   "metadata": {},
   "source": [
    "## K-Nearest Neighbour"
   ]
  },
  {
   "cell_type": "code",
   "execution_count": 93,
   "metadata": {},
   "outputs": [],
   "source": [
    "from sklearn.model_selection import train_test_split\n",
    "from sklearn.neighbors import KNeighborsClassifier"
   ]
  },
  {
   "cell_type": "code",
   "execution_count": 94,
   "metadata": {},
   "outputs": [
    {
     "data": {
      "text/plain": [
       "((233174, 2), (233174, 1))"
      ]
     },
     "execution_count": 94,
     "metadata": {},
     "output_type": "execute_result"
    }
   ],
   "source": [
    "(df_data[['SCORE']+['POST TEST']].shape, df_data[['STATUS']].shape)"
   ]
  },
  {
   "cell_type": "code",
   "execution_count": 95,
   "metadata": {},
   "outputs": [],
   "source": [
    "# Split data\n",
    "# knn_x_train, knn_x_test, knn_y_train, knn_y_test = train_test_split(df_data['POST TEST'], df_data['STATUS'], test_size=0.2, random_state=0)\n",
    "knn_x_train, knn_x_test, knn_y_train, knn_y_test = train_test_split(df_data[['SCORE']+['POST TEST']], df_data['STATUS'], test_size=0.2, random_state=0)"
   ]
  },
  {
   "cell_type": "code",
   "execution_count": 96,
   "metadata": {},
   "outputs": [
    {
     "data": {
      "text/plain": [
       "((186539, 2), (46635, 2), (186539,), (46635,))"
      ]
     },
     "execution_count": 96,
     "metadata": {},
     "output_type": "execute_result"
    }
   ],
   "source": [
    "(knn_x_train.shape, knn_x_test.shape, knn_y_train.shape, knn_y_test.shape)"
   ]
  },
  {
   "cell_type": "code",
   "execution_count": 97,
   "metadata": {},
   "outputs": [],
   "source": [
    "#Create KNN Classifier\n",
    "knn = KNeighborsClassifier(n_neighbors=5)\n",
    "\n",
    "#Train the model using the training sets\n",
    "knn.fit(knn_x_train, knn_y_train)\n",
    "\n",
    "#Predict the response for test dataset\n",
    "y_pred_knn = knn.predict(knn_x_test)"
   ]
  },
  {
   "cell_type": "code",
   "execution_count": 98,
   "metadata": {},
   "outputs": [
    {
     "data": {
      "text/plain": [
       "0.9999785568778814"
      ]
     },
     "execution_count": 98,
     "metadata": {},
     "output_type": "execute_result"
    }
   ],
   "source": [
    "# Akurasi Model\n",
    "metrics.accuracy_score(y_pred_knn, knn_y_test)"
   ]
  },
  {
   "cell_type": "markdown",
   "metadata": {},
   "source": [
    "## Support Vector Machine"
   ]
  },
  {
   "cell_type": "code",
   "execution_count": 99,
   "metadata": {},
   "outputs": [],
   "source": [
    "from sklearn import model_selection, svm\n",
    "from sklearn.metrics import accuracy_score"
   ]
  },
  {
   "cell_type": "code",
   "execution_count": 100,
   "metadata": {},
   "outputs": [
    {
     "data": {
      "text/plain": [
       "((233174, 2), (233174, 1))"
      ]
     },
     "execution_count": 100,
     "metadata": {},
     "output_type": "execute_result"
    }
   ],
   "source": [
    "(df_data[['SCORE']+['POST TEST']].shape, df_data[['STATUS']].shape)"
   ]
  },
  {
   "cell_type": "code",
   "execution_count": 101,
   "metadata": {},
   "outputs": [],
   "source": [
    "x_train_svm, x_test_svm, y_train_svm, y_test_svm = train_test_split(df_data[['SCORE']+['POST TEST']], df_data['STATUS'], test_size=0.2, random_state=0)"
   ]
  },
  {
   "cell_type": "code",
   "execution_count": 102,
   "metadata": {},
   "outputs": [],
   "source": [
    "#Create a svm Classifier\n",
    "clf = svm.SVC(kernel='linear') # Linear Kernel\n",
    "\n",
    "#Train the model using the training sets\n",
    "clf.fit(x_train_svm, y_train_svm) \n",
    "\n",
    "#Predict the response for test dataset\n",
    "y_pred_svm = clf.predict(x_test_svm)"
   ]
  },
  {
   "cell_type": "code",
   "execution_count": 103,
   "metadata": {},
   "outputs": [
    {
     "name": "stdout",
     "output_type": "stream",
     "text": [
      "Accuracy: 1.0\n"
     ]
    }
   ],
   "source": [
    "# Model Accuracy: how often is the classifier correct?\n",
    "print(\"Accuracy:\", accuracy_score(y_test_svm, y_pred_svm))"
   ]
  },
  {
   "cell_type": "markdown",
   "metadata": {},
   "source": [
    "## Decision Tree"
   ]
  },
  {
   "cell_type": "code",
   "execution_count": 104,
   "metadata": {},
   "outputs": [],
   "source": [
    "from sklearn.tree import DecisionTreeClassifier # Import Decision Tree Classifier"
   ]
  },
  {
   "cell_type": "code",
   "execution_count": 105,
   "metadata": {},
   "outputs": [],
   "source": [
    "x_train_dt, x_test_dt, y_train_dt, y_test_dt = train_test_split(df_data[['SCORE']+['POST TEST']], df_data['STATUS'], test_size=0.2, random_state=0)"
   ]
  },
  {
   "cell_type": "code",
   "execution_count": 106,
   "metadata": {},
   "outputs": [],
   "source": [
    "# Create Decision Tree classifer object\n",
    "dct = DecisionTreeClassifier()\n",
    "\n",
    "# Train Decision Tree Classifer\n",
    "dct = dct.fit(x_train_dt,y_train_dt)\n",
    "\n",
    "#Predict the response for test dataset\n",
    "y_pred = dct.predict(x_test_dt)"
   ]
  },
  {
   "cell_type": "code",
   "execution_count": 107,
   "metadata": {},
   "outputs": [
    {
     "name": "stdout",
     "output_type": "stream",
     "text": [
      "Accuracy: 1.0\n"
     ]
    }
   ],
   "source": [
    "# Model Accuracy, how often is the classifier correct?\n",
    "print(\"Accuracy:\",metrics.accuracy_score(y_test, y_pred))"
   ]
  },
  {
   "cell_type": "markdown",
   "metadata": {},
   "source": [
    "## Random Forest"
   ]
  },
  {
   "cell_type": "code",
   "execution_count": 108,
   "metadata": {},
   "outputs": [],
   "source": [
    "x_train_rf, x_test_rf, y_train_rf, y_test_rf = train_test_split(df_data[['SCORE']+['POST TEST']], df_data['STATUS'], test_size=0.2, random_state=0)"
   ]
  },
  {
   "cell_type": "code",
   "execution_count": 109,
   "metadata": {},
   "outputs": [],
   "source": [
    "#Import Random Forest Model\n",
    "from sklearn.ensemble import RandomForestClassifier\n",
    " \n",
    "#Create a Gaussian Classifier\n",
    "rfc=RandomForestClassifier(n_estimators=100)\n",
    " \n",
    "#Train the model using the training sets y_pred=clf.predict(X_test)\n",
    "rfc.fit(x_train_rf, y_train_rf) \n",
    "\n",
    "y_pred_rfc=rfc.predict(x_test_rf)"
   ]
  },
  {
   "cell_type": "code",
   "execution_count": 110,
   "metadata": {},
   "outputs": [
    {
     "name": "stdout",
     "output_type": "stream",
     "text": [
      "Accuracy Random Forest: 1.0\n"
     ]
    }
   ],
   "source": [
    "# Model Accuracy, how often is the classifier correct?\n",
    "print(\"Accuracy Random Forest:\",metrics.accuracy_score(y_test_rf, y_pred_rfc))"
   ]
  },
  {
   "cell_type": "markdown",
   "metadata": {},
   "source": [
    "## Naive Bayes"
   ]
  },
  {
   "cell_type": "code",
   "execution_count": 111,
   "metadata": {},
   "outputs": [],
   "source": [
    "x_train_nbc, x_test_nbc, y_train_nbc, y_test_nbc = train_test_split(df_data[['SCORE']+['POST TEST']], df_data['STATUS'], test_size=0.2, random_state=0)"
   ]
  },
  {
   "cell_type": "code",
   "execution_count": 112,
   "metadata": {},
   "outputs": [
    {
     "data": {
      "text/plain": [
       "((186539, 2), (46635, 2), (186539,), (46635,))"
      ]
     },
     "execution_count": 112,
     "metadata": {},
     "output_type": "execute_result"
    }
   ],
   "source": [
    "(x_train_nbc.shape, x_test_nbc.shape, y_train_nbc.shape, y_test_nbc.shape)"
   ]
  },
  {
   "cell_type": "code",
   "execution_count": 113,
   "metadata": {},
   "outputs": [],
   "source": [
    "from sklearn.naive_bayes import GaussianNB \n",
    "nbc=GaussianNB()\n",
    "nbc.fit(x_train_nbc, y_train_nbc)\n",
    "(x_train_nbc.shape, y_train_nbc.shape)\n",
    "y_pred_nbc = nbc.predict(x_test_nbc)"
   ]
  },
  {
   "cell_type": "code",
   "execution_count": 114,
   "metadata": {},
   "outputs": [
    {
     "name": "stdout",
     "output_type": "stream",
     "text": [
      "        SCORE  POST TEST\n",
      "199271  92.62      90.00\n",
      "213720  91.88     100.00\n",
      "210744  92.13      46.67\n",
      "73065   94.00     100.00\n",
      "24367   93.67     100.00\n",
      "...       ...        ...\n",
      "204283  93.34      90.00\n",
      "140383  89.29      80.00\n",
      "200941  93.75     100.00\n",
      "50478   89.29      73.33\n",
      "232135  92.62      85.00\n",
      "\n",
      "[186539 rows x 2 columns]\n"
     ]
    }
   ],
   "source": [
    "print(x_train_nbc)"
   ]
  },
  {
   "cell_type": "code",
   "execution_count": 115,
   "metadata": {},
   "outputs": [
    {
     "name": "stdout",
     "output_type": "stream",
     "text": [
      "Accuracy Naive Bayes: 0.9927307816018012\n"
     ]
    }
   ],
   "source": [
    "# Model Accuracy, how often is the classifier correct?\n",
    "print(\"Accuracy Naive Bayes:\",metrics.accuracy_score(y_test_nbc, y_pred_nbc))"
   ]
  },
  {
   "cell_type": "markdown",
   "metadata": {},
   "source": [
    "## Confusion Matrix"
   ]
  },
  {
   "cell_type": "code",
   "execution_count": 116,
   "metadata": {},
   "outputs": [],
   "source": [
    "x_train_nbc, x_test_nbc, y_train_nbc, y_test_nbc = train_test_split(df_data[['SCORE']+['POST TEST']], df_data['STATUS'], test_size=0.2, random_state=0)"
   ]
  },
  {
   "cell_type": "code",
   "execution_count": 117,
   "metadata": {},
   "outputs": [],
   "source": [
    "from sklearn.metrics import confusion_matrix"
   ]
  },
  {
   "cell_type": "code",
   "execution_count": 118,
   "metadata": {},
   "outputs": [
    {
     "data": {
      "text/plain": [
       "array([[41348,   278],\n",
       "       [   61,  4948]], dtype=int64)"
      ]
     },
     "execution_count": 118,
     "metadata": {},
     "output_type": "execute_result"
    }
   ],
   "source": [
    "cm = confusion_matrix(y_test_nbc, y_pred_nbc)\n",
    "cm"
   ]
  },
  {
   "cell_type": "markdown",
   "metadata": {},
   "source": [
    "## Visualization"
   ]
  },
  {
   "cell_type": "markdown",
   "metadata": {},
   "source": [
    "### Visualisasi Confusion Matrix Algoritma Naive Bayes"
   ]
  },
  {
   "cell_type": "code",
   "execution_count": 119,
   "metadata": {},
   "outputs": [
    {
     "data": {
      "image/png": "[encoded data removed]",
      "text/plain": [
       "<Figure size 576x576 with 1 Axes>"
      ]
     },
     "metadata": {
      "needs_background": "light"
     },
     "output_type": "display_data"
    }
   ],
   "source": [
    "fig, ax = plt.subplots(figsize=(8, 8))\n",
    "ax.imshow(cm)\n",
    "ax.grid(False)\n",
    "ax.xaxis.set(ticks=(0, 1), ticklabels=('Predicted 0s', 'Predicted 1s'))\n",
    "ax.yaxis.set(ticks=(0, 1), ticklabels=('Actual 0s', 'Actual 1s'))\n",
    "ax.set_ylim(1.5, -0.5)\n",
    "for i in range(2):\n",
    "    for j in range(2):\n",
    "        ax.text(j, i, cm[i, j], ha='center', va='center', color='red')\n",
    "plt.show()"
   ]
  },
  {
   "cell_type": "markdown",
   "metadata": {},
   "source": [
    "### Visualisasi Error Rate K dari algoritma KNN"
   ]
  },
  {
   "cell_type": "code",
   "execution_count": 120,
   "metadata": {},
   "outputs": [
    {
     "data": {
      "text/plain": [
       "Text(0, 0.5, 'Error mean')"
      ]
     },
     "execution_count": 120,
     "metadata": {},
     "output_type": "execute_result"
    },
    {
     "data": {
      "image/png": "[encoded data removed]",
      "text/plain": [
       "<Figure size 864x432 with 1 Axes>"
      ]
     },
     "metadata": {
      "needs_background": "light"
     },
     "output_type": "display_data"
    }
   ],
   "source": [
    "error = []\n",
    "\n",
    "# Calculating error for K values between 1 and 40\n",
    "for i in range(1, 40):  \n",
    "    knn = KNeighborsClassifier(n_neighbors=i)\n",
    "    knn.fit(knn_x_train, knn_y_train)\n",
    "    pred_i = knn.predict(knn_x_test)\n",
    "    error.append(np.mean(pred_i != knn_y_test))\n",
    "    \n",
    "plt.figure(figsize=(12, 6))  \n",
    "plt.plot(range(1, 40), error, color='red', linestyle='dashed', marker='o',  \n",
    "         markerfacecolor='blue', markersize=10)\n",
    "plt.title('Error Rate K')  \n",
    "plt.xlabel('K')  \n",
    "plt.ylabel('Error mean')"
   ]
  },
  {
   "cell_type": "markdown",
   "metadata": {},
   "source": [
    "### Visualisasi Feature Importance dari algoritma Random Forest"
   ]
  },
  {
   "cell_type": "code",
   "execution_count": 121,
   "metadata": {},
   "outputs": [
    {
     "data": {
      "text/plain": [
       "POST TEST    0.99197\n",
       "SCORE        0.00803\n",
       "dtype: float64"
      ]
     },
     "execution_count": 121,
     "metadata": {},
     "output_type": "execute_result"
    }
   ],
   "source": [
    "feature_importance = pd.Series(rfc.feature_importances_, index=x_train_rf.columns).sort_values(ascending=False)\n",
    "feature_importance"
   ]
  },
  {
   "cell_type": "code",
   "execution_count": 122,
   "metadata": {},
   "outputs": [
    {
     "name": "stderr",
     "output_type": "stream",
     "text": [
      "No handles with labels found to put in legend.\n"
     ]
    },
    {
     "data": {
      "image/png": "[encoded data removed]",
      "text/plain": [
       "<Figure size 432x288 with 1 Axes>"
      ]
     },
     "metadata": {
      "needs_background": "light"
     },
     "output_type": "display_data"
    }
   ],
   "source": [
    "import matplotlib.pyplot as plt\n",
    "import seaborn as sns\n",
    "%matplotlib inline\n",
    "\n",
    "# Creating a bar plot\n",
    "sns.barplot(x=feature_importance, y=feature_importance.index)\n",
    "\n",
    "# Add labels to your graph\n",
    "plt.xlabel('Feature Importance Score')\n",
    "plt.ylabel('Features')\n",
    "plt.title(\"Visualizing Important Features\")\n",
    "plt.legend()\n",
    "plt.show()"
   ]
  }
 ],
 "metadata": {
  "kernelspec": {
   "display_name": "Python 3",
   "language": "python",
   "name": "python3"
  },
  "language_info": {
   "codemirror_mode": {
    "name": "ipython",
    "version": 3
   },
   "file_extension": ".py",
   "mimetype": "text/x-python",
   "name": "python",
   "nbconvert_exporter": "python",
   "pygments_lexer": "ipython3",
   "version": "3.8.3"
  }
 },
 "nbformat": 4,
 "nbformat_minor": 4
}
