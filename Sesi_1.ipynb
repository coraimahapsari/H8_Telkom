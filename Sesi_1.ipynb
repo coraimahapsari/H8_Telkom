{
  "nbformat": 4,
  "nbformat_minor": 0,
  "metadata": {
    "colab": {
      "name": "Sesi_1",
      "provenance": []
    },
    "kernelspec": {
      "name": "python3",
      "display_name": "Python 3"
    }
  },
  "cells": [
    {
      "cell_type": "markdown",
      "metadata": {
        "id": "0sIKIHIBznT4"
      },
      "source": [
        "# Sesi 1"
      ]
    },
    {
      "cell_type": "markdown",
      "metadata": {
        "id": "nDJILDss2V2X"
      },
      "source": [
        "### Integer\n",
        "Integer adalah bilangan bulat pada python"
      ]
    },
    {
      "cell_type": "code",
      "metadata": {
        "id": "NmJ5wpLnkWlP",
        "colab": {
          "base_uri": "https://localhost:8080/"
        },
        "outputId": "90b9e423-8afb-45be-b363-c70754c740a7"
      },
      "source": [
        "print(1)"
      ],
      "execution_count": 1,
      "outputs": [
        {
          "output_type": "stream",
          "text": [
            "1\n"
          ],
          "name": "stdout"
        }
      ]
    },
    {
      "cell_type": "code",
      "metadata": {
        "colab": {
          "base_uri": "https://localhost:8080/"
        },
        "id": "-UH8zbR-2Ih2",
        "outputId": "bce4a815-2f6a-4241-df6a-3a9f60bd21c2"
      },
      "source": [
        "print(type(10))"
      ],
      "execution_count": 2,
      "outputs": [
        {
          "output_type": "stream",
          "text": [
            "<class 'int'>\n"
          ],
          "name": "stdout"
        }
      ]
    },
    {
      "cell_type": "markdown",
      "metadata": {
        "id": "E3lHT7WV3ebs"
      },
      "source": [
        "## Float\n",
        "Float adalah pecahan pada python"
      ]
    },
    {
      "cell_type": "code",
      "metadata": {
        "colab": {
          "base_uri": "https://localhost:8080/"
        },
        "id": "c_Dephbl3an_",
        "outputId": "9f88a909-fa1e-4df0-db96-e9746e9eb202"
      },
      "source": [
        "print(4.2)"
      ],
      "execution_count": 3,
      "outputs": [
        {
          "output_type": "stream",
          "text": [
            "4.2\n"
          ],
          "name": "stdout"
        }
      ]
    },
    {
      "cell_type": "code",
      "metadata": {
        "colab": {
          "base_uri": "https://localhost:8080/"
        },
        "id": "lobdYpk03ICT",
        "outputId": "41efbcd5-ea5b-4807-955c-e8b55510d826"
      },
      "source": [
        "print(type(4.2))"
      ],
      "execution_count": 4,
      "outputs": [
        {
          "output_type": "stream",
          "text": [
            "<class 'float'>\n"
          ],
          "name": "stdout"
        }
      ]
    },
    {
      "cell_type": "code",
      "metadata": {
        "colab": {
          "base_uri": "https://localhost:8080/"
        },
        "id": "g8oykp1j3ufq",
        "outputId": "af07b3e2-ede0-48de-87c4-42ab32300cb7"
      },
      "source": [
        "print(4.0)"
      ],
      "execution_count": 5,
      "outputs": [
        {
          "output_type": "stream",
          "text": [
            "4.0\n"
          ],
          "name": "stdout"
        }
      ]
    },
    {
      "cell_type": "code",
      "metadata": {
        "colab": {
          "base_uri": "https://localhost:8080/"
        },
        "id": "-Yc8XYzU32Zh",
        "outputId": "4996650e-aac3-4d9e-b8ee-6db0932d2079"
      },
      "source": [
        "print(0.4)"
      ],
      "execution_count": 6,
      "outputs": [
        {
          "output_type": "stream",
          "text": [
            "0.4\n"
          ],
          "name": "stdout"
        }
      ]
    },
    {
      "cell_type": "code",
      "metadata": {
        "colab": {
          "base_uri": "https://localhost:8080/"
        },
        "id": "3Gciym7r33ry",
        "outputId": "e4d661c6-3543-42aa-e794-7a93de9dcf68"
      },
      "source": [
        "print(.4e8)"
      ],
      "execution_count": 9,
      "outputs": [
        {
          "output_type": "stream",
          "text": [
            "40000000.0\n"
          ],
          "name": "stdout"
        }
      ]
    },
    {
      "cell_type": "code",
      "metadata": {
        "colab": {
          "base_uri": "https://localhost:8080/"
        },
        "id": "SmJ1-kh64Kl2",
        "outputId": "1c1efadc-9965-4946-8dfb-327a3fcfb832"
      },
      "source": [
        "print(4.e7)"
      ],
      "execution_count": 8,
      "outputs": [
        {
          "output_type": "stream",
          "text": [
            "40000000.0\n"
          ],
          "name": "stdout"
        }
      ]
    },
    {
      "cell_type": "markdown",
      "metadata": {
        "id": "NvcvbqPJ4rkc"
      },
      "source": [
        "## String\n",
        "string itu data yang pakai huruf, inget sebelum ngetik harus pake \"\""
      ]
    },
    {
      "cell_type": "code",
      "metadata": {
        "colab": {
          "base_uri": "https://localhost:8080/"
        },
        "id": "23KbafeT4Pav",
        "outputId": "617a2cd0-89d2-45fb-cdc7-ed8f6dc8b8d4"
      },
      "source": [
        "print(\"oke\")"
      ],
      "execution_count": 10,
      "outputs": [
        {
          "output_type": "stream",
          "text": [
            "oke\n"
          ],
          "name": "stdout"
        }
      ]
    },
    {
      "cell_type": "code",
      "metadata": {
        "colab": {
          "base_uri": "https://localhost:8080/"
        },
        "id": "HIUY-vaC46eC",
        "outputId": "a56cabf8-b3c2-434b-bc66-be21767d386e"
      },
      "source": [
        "print(type(\"oke\"))"
      ],
      "execution_count": 11,
      "outputs": [
        {
          "output_type": "stream",
          "text": [
            "<class 'str'>\n"
          ],
          "name": "stdout"
        }
      ]
    },
    {
      "cell_type": "code",
      "metadata": {
        "colab": {
          "base_uri": "https://localhost:8080/"
        },
        "id": "saqYO78R49xm",
        "outputId": "4077bdbe-cef6-4f5f-8567-e09c15b38379"
      },
      "source": [
        "print(\"aku'hmm'\")"
      ],
      "execution_count": 12,
      "outputs": [
        {
          "output_type": "stream",
          "text": [
            "aku'hmm'\n"
          ],
          "name": "stdout"
        }
      ]
    },
    {
      "cell_type": "markdown",
      "metadata": {
        "id": "YSQLWx6H57Cl"
      },
      "source": [
        "## Boolean\n",
        "Ini tipe data yang isinya True ama False. nulis True ama False harus pake uppercase jadi gak bole TRUE atau true, nanti gak mau baca"
      ]
    },
    {
      "cell_type": "code",
      "metadata": {
        "colab": {
          "base_uri": "https://localhost:8080/"
        },
        "id": "luP2VX2F5dV5",
        "outputId": "240cf5db-aa29-4032-8f34-1ab443a5503c"
      },
      "source": [
        "print(type(True))"
      ],
      "execution_count": 13,
      "outputs": [
        {
          "output_type": "stream",
          "text": [
            "<class 'bool'>\n"
          ],
          "name": "stdout"
        }
      ]
    },
    {
      "cell_type": "markdown",
      "metadata": {
        "id": "YVmWCprq7Z44"
      },
      "source": [
        "## Variable Assignment\n",
        "intinya ngetik aja gitu suatu hal itu datanya apa"
      ]
    },
    {
      "cell_type": "code",
      "metadata": {
        "id": "cqhX0sUz6WYa"
      },
      "source": [
        "kotakbrownies = 5"
      ],
      "execution_count": 14,
      "outputs": []
    },
    {
      "cell_type": "code",
      "metadata": {
        "colab": {
          "base_uri": "https://localhost:8080/"
        },
        "id": "O_o9p0IL7i9N",
        "outputId": "fdebc22d-4c57-47c5-b158-6e4a80d9edd2"
      },
      "source": [
        "print(kotakbrownies)"
      ],
      "execution_count": 15,
      "outputs": [
        {
          "output_type": "stream",
          "text": [
            "5\n"
          ],
          "name": "stdout"
        }
      ]
    },
    {
      "cell_type": "code",
      "metadata": {
        "colab": {
          "base_uri": "https://localhost:8080/"
        },
        "id": "i3bCqTKM7uJm",
        "outputId": "e5d521d4-2429-4f0e-cedf-6abc03215524"
      },
      "source": [
        "kotakbrownies"
      ],
      "execution_count": 16,
      "outputs": [
        {
          "output_type": "execute_result",
          "data": {
            "text/plain": [
              "5"
            ]
          },
          "metadata": {
            "tags": []
          },
          "execution_count": 16
        }
      ]
    },
    {
      "cell_type": "code",
      "metadata": {
        "id": "oXE_r3SO7yV3"
      },
      "source": [
        "kotakbrownies = 10"
      ],
      "execution_count": 17,
      "outputs": []
    },
    {
      "cell_type": "code",
      "metadata": {
        "colab": {
          "base_uri": "https://localhost:8080/"
        },
        "id": "SZTxLw658AXK",
        "outputId": "0d30c9b5-7ff8-4657-9843-523cbd1929cd"
      },
      "source": [
        "print(kotakbrownies)"
      ],
      "execution_count": 18,
      "outputs": [
        {
          "output_type": "stream",
          "text": [
            "10\n"
          ],
          "name": "stdout"
        }
      ]
    },
    {
      "cell_type": "code",
      "metadata": {
        "id": "r44laL_r8DSu"
      },
      "source": [
        "a = b = c = 10"
      ],
      "execution_count": 19,
      "outputs": []
    },
    {
      "cell_type": "code",
      "metadata": {
        "colab": {
          "base_uri": "https://localhost:8080/"
        },
        "id": "11EAWuvx8cOv",
        "outputId": "9b369548-fd9f-453f-eff2-6a437d36c7d9"
      },
      "source": [
        "print (a,b,c)"
      ],
      "execution_count": 20,
      "outputs": [
        {
          "output_type": "stream",
          "text": [
            "10 10 10\n"
          ],
          "name": "stdout"
        }
      ]
    },
    {
      "cell_type": "code",
      "metadata": {
        "id": "1fy7Oex08dyR"
      },
      "source": [
        "var = 14.5"
      ],
      "execution_count": 21,
      "outputs": []
    },
    {
      "cell_type": "code",
      "metadata": {
        "colab": {
          "base_uri": "https://localhost:8080/"
        },
        "id": "R8-xW5JP9YK_",
        "outputId": "30f949cd-28ea-43c0-871c-7b852dbf1da6"
      },
      "source": [
        "print(var)"
      ],
      "execution_count": 22,
      "outputs": [
        {
          "output_type": "stream",
          "text": [
            "14.5\n"
          ],
          "name": "stdout"
        }
      ]
    },
    {
      "cell_type": "code",
      "metadata": {
        "id": "TnfzBdXR9ZSs"
      },
      "source": [
        "var = \"aku adalah kucing\""
      ],
      "execution_count": 23,
      "outputs": []
    },
    {
      "cell_type": "code",
      "metadata": {
        "colab": {
          "base_uri": "https://localhost:8080/"
        },
        "id": "sNAwcO7b9cjg",
        "outputId": "134c8bdc-1d54-4052-9cb0-359bba4135f3"
      },
      "source": [
        "print (var)"
      ],
      "execution_count": 24,
      "outputs": [
        {
          "output_type": "stream",
          "text": [
            "aku adalah kucing\n"
          ],
          "name": "stdout"
        }
      ]
    },
    {
      "cell_type": "markdown",
      "metadata": {
        "id": "JCbw1Z6p_Rjz"
      },
      "source": [
        "## Variable Name\n",
        "ngasih nama di variable itu gak boleh sembarangan, gak boleh pake angka, gak boleh ngasal misal variblenya sayur tapi datanya angka itu gak boleh, terus harus konsisten soalnya data AGE sama age itu dihitung beda varible, jadi upercase dan cara nulisnya pengaruh juga. biasain sama biar gak bingung"
      ]
    },
    {
      "cell_type": "code",
      "metadata": {
        "id": "TJVSmMcT9ebQ"
      },
      "source": [
        "nama = \"sapi\"\n",
        "age = 5 \n",
        "has_tail = True"
      ],
      "execution_count": 26,
      "outputs": []
    },
    {
      "cell_type": "code",
      "metadata": {
        "colab": {
          "base_uri": "https://localhost:8080/"
        },
        "id": "ZObxJaJV_d_D",
        "outputId": "d1ddd49d-6a9b-4a6c-e835-c166fe400672"
      },
      "source": [
        "print(nama,age,has_tail)"
      ],
      "execution_count": 27,
      "outputs": [
        {
          "output_type": "stream",
          "text": [
            "sapi 5 True\n"
          ],
          "name": "stdout"
        }
      ]
    },
    {
      "cell_type": "markdown",
      "metadata": {
        "id": "7qTVHPT4Axl7"
      },
      "source": [
        "## Operators and Expressions\n",
        "operators itu tanda aritmatikanya *,-,/,%,** ini pangkat , kalau expresion itu serangkaian dari variable dan operators yang dipake misal a+c+d"
      ]
    },
    {
      "cell_type": "code",
      "metadata": {
        "id": "4qDR-gSQA7US"
      },
      "source": [
        "a = 10 \n",
        "b = 6"
      ],
      "execution_count": 28,
      "outputs": []
    },
    {
      "cell_type": "code",
      "metadata": {
        "colab": {
          "base_uri": "https://localhost:8080/"
        },
        "id": "NP36wwrf_i93",
        "outputId": "cb698dd1-c24a-4c24-e4fb-811ac2adce00"
      },
      "source": [
        "a+b"
      ],
      "execution_count": 29,
      "outputs": [
        {
          "output_type": "execute_result",
          "data": {
            "text/plain": [
              "16"
            ]
          },
          "metadata": {
            "tags": []
          },
          "execution_count": 29
        }
      ]
    },
    {
      "cell_type": "code",
      "metadata": {
        "colab": {
          "base_uri": "https://localhost:8080/"
        },
        "id": "vpaz3n26A-5s",
        "outputId": "608fbd9b-3a81-4daf-d29a-6daa0b2359b3"
      },
      "source": [
        "a + b - 2"
      ],
      "execution_count": 30,
      "outputs": [
        {
          "output_type": "execute_result",
          "data": {
            "text/plain": [
              "14"
            ]
          },
          "metadata": {
            "tags": []
          },
          "execution_count": 30
        }
      ]
    },
    {
      "cell_type": "code",
      "metadata": {
        "colab": {
          "base_uri": "https://localhost:8080/"
        },
        "id": "_DFeZaztBStq",
        "outputId": "bdc8400a-17f1-499a-9171-d2286ab75d5b"
      },
      "source": [
        "print(a/b)"
      ],
      "execution_count": 31,
      "outputs": [
        {
          "output_type": "stream",
          "text": [
            "1.6666666666666667\n"
          ],
          "name": "stdout"
        }
      ]
    },
    {
      "cell_type": "code",
      "metadata": {
        "colab": {
          "base_uri": "https://localhost:8080/"
        },
        "id": "RfxHG-IVBzSw",
        "outputId": "550ca743-7488-4f36-ef9a-473d5cbdd6b9"
      },
      "source": [
        "print(a/b-7)"
      ],
      "execution_count": 32,
      "outputs": [
        {
          "output_type": "stream",
          "text": [
            "-5.333333333333333\n"
          ],
          "name": "stdout"
        }
      ]
    },
    {
      "cell_type": "code",
      "metadata": {
        "colab": {
          "base_uri": "https://localhost:8080/"
        },
        "id": "7yhdD5zjB2lK",
        "outputId": "04ee1823-dd71-4de5-9c04-d5bcf2af5bb2"
      },
      "source": [
        "print (a**b/2-1)"
      ],
      "execution_count": 33,
      "outputs": [
        {
          "output_type": "stream",
          "text": [
            "499999.0\n"
          ],
          "name": "stdout"
        }
      ]
    },
    {
      "cell_type": "code",
      "metadata": {
        "colab": {
          "base_uri": "https://localhost:8080/"
        },
        "id": "KvmlocoPCGr0",
        "outputId": "43a86bf5-0652-4406-9f7e-dedc654e94bf"
      },
      "source": [
        "print (a==b)"
      ],
      "execution_count": 37,
      "outputs": [
        {
          "output_type": "stream",
          "text": [
            "False\n"
          ],
          "name": "stdout"
        }
      ]
    },
    {
      "cell_type": "code",
      "metadata": {
        "colab": {
          "base_uri": "https://localhost:8080/"
        },
        "id": "Tq1bwQRXDxtK",
        "outputId": "867c5c5b-fd9c-4f21-badd-1fd0833ade23"
      },
      "source": [
        "print(a<=b , a>=b , a != b)"
      ],
      "execution_count": 38,
      "outputs": [
        {
          "output_type": "stream",
          "text": [
            "False True True\n"
          ],
          "name": "stdout"
        }
      ]
    },
    {
      "cell_type": "markdown",
      "metadata": {
        "id": "LeNBHlbIFWGF"
      },
      "source": [
        "## String Manipulation\n",
        "Ini buat nyamain format kata kata di datanya biar waktu dianalisis gak dihitung dua karena ada yang upercase atau yang lower case. misal Tidak sama tidak nah ini bisa jadi 2 data string yang berbeda"
      ]
    },
    {
      "cell_type": "code",
      "metadata": {
        "id": "Von3elgEEJ7E"
      },
      "source": [
        "x = \"halo\"\n",
        "y = \"yuhu\"\n",
        "h = \"lakariSUAB8\""
      ],
      "execution_count": 56,
      "outputs": []
    },
    {
      "cell_type": "code",
      "metadata": {
        "colab": {
          "base_uri": "https://localhost:8080/"
        },
        "id": "HOU79BJGF7AK",
        "outputId": "d1848786-8d72-4c3a-d5b5-648ff0c1881b"
      },
      "source": [
        "print(x+y,y*2, y in \"yuhu\", x in \"ahuy\")"
      ],
      "execution_count": 53,
      "outputs": [
        {
          "output_type": "stream",
          "text": [
            "haloyuhu yuhuyuhu True False\n"
          ],
          "name": "stdout"
        }
      ]
    },
    {
      "cell_type": "code",
      "metadata": {
        "colab": {
          "base_uri": "https://localhost:8080/"
        },
        "id": "Vwgh81TYF_v3",
        "outputId": "285fd1ce-f83d-4fed-d158-0b0ebc945395"
      },
      "source": [
        "print(h.capitalize()) \n",
        "print (h.lower()) \n",
        "print(h.swapcase()) \n",
        "print(h.title()) \n",
        "print(h.upper())\n"
      ],
      "execution_count": 57,
      "outputs": [
        {
          "output_type": "stream",
          "text": [
            "Lakarisuab8\n",
            "lakarisuab8\n",
            "LAKARIsuab8\n",
            "Lakarisuab8\n",
            "LAKARISUAB8\n"
          ],
          "name": "stdout"
        }
      ]
    },
    {
      "cell_type": "markdown",
      "metadata": {
        "id": "sl2VI3tYJ4cH"
      },
      "source": [
        "## Python List\n",
        "list harus berurutan ya, jadi urutannya maters. misal a,c, d itu beda sama a,d,c\n",
        ". dalam satu list bisa beda jenis data\n",
        ". terus bisa diakses sesuai indexnya (index ngitungnya dari 0 jan lupa jadi 0,1,2 dst) . terus semisal pengen manggil yang terakhir bisa pake - 1, berati element terakhir, kalio -2 berati elemen ke 2 terakhir. list ini bisa diubah ubah, terus makenya tanda [] yah"
      ]
    },
    {
      "cell_type": "code",
      "metadata": {
        "id": "BdgHJ0QNG6-u"
      },
      "source": [
        "contoh_list = [1, 2, 3]\n",
        "t = [ 8 , \"aku\" , .9 , \"apa\" , \"siapa\" , 1]\n",
        "h = [\"fuu\", \"hjika\" , \"daku\", \"jika\"]"
      ],
      "execution_count": 80,
      "outputs": []
    },
    {
      "cell_type": "code",
      "metadata": {
        "colab": {
          "base_uri": "https://localhost:8080/"
        },
        "id": "u-CqPafZKI6E",
        "outputId": "a170ca9d-a2d6-42e2-ff71-1b7a4245aee0"
      },
      "source": [
        "\n",
        "print(contoh_list , t)\n",
        "print(contoh_list == t)\n",
        "print(t[1])\n",
        "print(t[-2])\n",
        "print(t[2:5])\n",
        "print(t + [\"bayi\" , \"anjing\"])\n",
        "print(t * 2)\n",
        "print(len(h))\n",
        "print(min(h))\n",
        "print(max(h))"
      ],
      "execution_count": 85,
      "outputs": [
        {
          "output_type": "stream",
          "text": [
            "[1, 2, 3] [8, 'aku', 0.9, 'apa', 'siapa', 1]\n",
            "False\n",
            "aku\n",
            "siapa\n",
            "[0.9, 'apa', 'siapa']\n",
            "[8, 'aku', 0.9, 'apa', 'siapa', 1, 'bayi', 'anjing']\n",
            "[8, 'aku', 0.9, 'apa', 'siapa', 1, 8, 'aku', 0.9, 'apa', 'siapa', 1]\n",
            "4\n",
            "daku\n",
            "jika\n"
          ],
          "name": "stdout"
        }
      ]
    },
    {
      "cell_type": "code",
      "metadata": {
        "colab": {
          "base_uri": "https://localhost:8080/"
        },
        "id": "lgQx1qZNKMNh",
        "outputId": "136da980-71d4-4cf2-a101-86681b5529ac"
      },
      "source": [
        "print(t)\n"
      ],
      "execution_count": 88,
      "outputs": [
        {
          "output_type": "stream",
          "text": [
            "[8, 'aku', 'adalah', 1, 'siapa', 1]\n"
          ],
          "name": "stdout"
        }
      ]
    },
    {
      "cell_type": "code",
      "metadata": {
        "colab": {
          "base_uri": "https://localhost:8080/"
        },
        "id": "R-bZVanUQHbA",
        "outputId": "cf5b5bb9-72d4-4d09-f5be-b4716137bcf0"
      },
      "source": [
        "t[2] = \"adalah\"\n",
        "t[3] = 1\n",
        "print(t)"
      ],
      "execution_count": 89,
      "outputs": [
        {
          "output_type": "stream",
          "text": [
            "[8, 'aku', 'adalah', 1, 'siapa', 1]\n"
          ],
          "name": "stdout"
        }
      ]
    },
    {
      "cell_type": "code",
      "metadata": {
        "colab": {
          "base_uri": "https://localhost:8080/"
        },
        "id": "9I1YCbvqQZ8g",
        "outputId": "29e1b085-5638-46da-e920-bf6b4faf7c97"
      },
      "source": [
        "print(h)\n",
        "h[0:2]=[\"merah\",\"biru\",\"ungu\"]\n",
        "print(h)"
      ],
      "execution_count": 90,
      "outputs": [
        {
          "output_type": "stream",
          "text": [
            "['fuu', 'hjika', 'daku', 'jika']\n",
            "['merah', 'biru', 'ungu', 'daku', 'jika']\n"
          ],
          "name": "stdout"
        }
      ]
    },
    {
      "cell_type": "markdown",
      "metadata": {
        "id": "iO3HJA8MShri"
      },
      "source": [
        "## Pyhton Tuples\n",
        "nah ini list tapi gak bisa diubah, gak bisa diedit, gak bisa ditambahin pakenya tanda (), nah doi ini biasanya data urutan yang fix, misal urutan bulan kan dah fix tuh gak mungkin bakalan berubah urutan dan jumlahnya"
      ]
    },
    {
      "cell_type": "markdown",
      "metadata": {
        "id": "6PCao7boTNmn"
      },
      "source": [
        "## Phyton Dictionaries\n",
        "ini gak butuh urutan, tapi data dari 2 data yang berpasangan , jadi key-value-pairs, pakenya tanda { }"
      ]
    },
    {
      "cell_type": "code",
      "metadata": {
        "colab": {
          "base_uri": "https://localhost:8080/"
        },
        "id": "y_ax2pNAQ5Hh",
        "outputId": "a48fab7c-ca42-4260-ab8b-6e2e1f6fe16f"
      },
      "source": [
        "identitas = {\n",
        "    \"nama\" : \"soju\",\n",
        "    \"umur\" : [\"7 bulan\", \"19 hari\"],\n",
        "    \"pekerjaan\" : \"ngupil\"\n",
        "}\n",
        "print(identitas)\n",
        "print(identitas[\"nama\"])\n",
        "print(identitas[\"pekerjaan\"])\n",
        "print(identitas[\"umur\"])\n",
        "print(identitas.keys())\n",
        "print(identitas.values())"
      ],
      "execution_count": 98,
      "outputs": [
        {
          "output_type": "stream",
          "text": [
            "{'nama': 'soju', 'umur': ['7 bulan', '19 hari'], 'pekerjaan': 'ngupil'}\n",
            "soju\n",
            "ngupil\n",
            "['7 bulan', '19 hari']\n",
            "dict_keys(['nama', 'umur', 'pekerjaan'])\n",
            "dict_values(['soju', ['7 bulan', '19 hari'], 'ngupil'])\n"
          ],
          "name": "stdout"
        }
      ]
    },
    {
      "cell_type": "code",
      "metadata": {
        "id": "nwMEk18qUYry"
      },
      "source": [
        ""
      ],
      "execution_count": null,
      "outputs": []
    }
  ]
}